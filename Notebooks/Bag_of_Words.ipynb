{
 "cells": [
  {
   "cell_type": "code",
   "execution_count": 4,
   "metadata": {},
   "outputs": [],
   "source": [
    "import nltk\n",
    "import csv\n",
    "import random\n",
    "import Classification.config as cfg\n",
    "from sklearn.svm import LinearSVC"
   ]
  },
  {
   "cell_type": "code",
   "execution_count": 5,
   "metadata": {},
   "outputs": [],
   "source": [
    "# Read data from all input files\n",
    "data_set = []\n",
    "for file in cfg.ALL_FILES:\n",
    "    reader = csv.reader(open(file, 'r'), delimiter=';')\n",
    "    for line in reader:\n",
    "        data_set.append([line[0].lower(), line[1]])"
   ]
  },
  {
   "cell_type": "code",
   "execution_count": 8,
   "metadata": {},
   "outputs": [],
   "source": [
    "# Create the set of all words and bag-of-words\n",
    "words_bag = set(word for passage in data_set for word in nltk.tokenize.WordPunctTokenizer().tokenize(passage[0]))\n",
    "feature_sets = [({word: (word in nltk.tokenize.WordPunctTokenizer().tokenize(data[0])) for word in words_bag}, data[1]) for data in data_set]"
   ]
  },
  {
   "cell_type": "code",
   "execution_count": 25,
   "metadata": {},
   "outputs": [],
   "source": [
    "# Create Training and Test sets\n",
    "random.shuffle(feature_sets)\n",
    "total = len(data_set)\n",
    "training_percentage = 0.9\n",
    "train_set, test_set = feature_sets[:int(total * training_percentage)], feature_sets[int(total * training_percentage):]"
   ]
  },
  {
   "cell_type": "code",
   "execution_count": 17,
   "metadata": {},
   "outputs": [
    {
     "name": "stdout",
     "output_type": "stream",
     "text": [
      "Most Informative Features\n",
      "                      wo = True                0 : 1      =     20.9 : 1.0\n",
      "                  welche = True                0 : 1      =     19.7 : 1.0\n",
      "                   woher = True                0 : 1      =     13.2 : 1.0\n",
      "                   wieso = True                0 : 1      =     12.0 : 1.0\n",
      "                    lang = True                0 : 1      =     11.7 : 1.0\n",
      "                   warum = True                0 : 1      =     10.4 : 1.0\n",
      "                    wann = True                0 : 1      =      9.6 : 1.0\n",
      "                    auch = True                1 : 0      =      9.2 : 1.0\n",
      "                   genau = True                0 : 1      =      7.9 : 1.0\n",
      "                 welches = True                0 : 1      =      7.9 : 1.0\n"
     ]
    }
   ],
   "source": [
    "# Naive Bayes Classifier\n",
    "naive_bayes_enabled = True\n",
    "if naive_bayes_enabled:\n",
    "    classifier = nltk.NaiveBayesClassifier.train(train_set)\n",
    "    classifier.show_most_informative_features()"
   ]
  },
  {
   "cell_type": "code",
   "execution_count": null,
   "metadata": {},
   "outputs": [],
   "source": [
    "nltk.classify.accuracy(classifier, test_set)"
   ]
  },
  {
   "cell_type": "code",
   "execution_count": 27,
   "metadata": {},
   "outputs": [],
   "source": [
    "support_vector_enabled = True\n",
    "if support_vector_enabled:\n",
    "    classifier = nltk.classify.SklearnClassifier(LinearSVC())\n",
    "    classifier.train(train_set)"
   ]
  },
  {
   "cell_type": "code",
   "execution_count": 31,
   "metadata": {},
   "outputs": [
    {
     "data": {
      "text/plain": [
       "0.8913043478260869"
      ]
     },
     "execution_count": 31,
     "metadata": {},
     "output_type": "execute_result"
    }
   ],
   "source": [
    "nltk.classify.accuracy(classifier, test_set)"
   ]
  },
  {
   "cell_type": "code",
   "execution_count": 32,
   "metadata": {},
   "outputs": [],
   "source": [
    "decision_tree_enabled = True\n",
    "if decision_tree_enabled:\n",
    "    classifier = nltk.DecisionTreeClassifier.train(train_set)"
   ]
  },
  {
   "cell_type": "code",
   "execution_count": 33,
   "metadata": {},
   "outputs": [
    {
     "data": {
      "text/plain": [
       "0.8913043478260869"
      ]
     },
     "execution_count": 33,
     "metadata": {},
     "output_type": "execute_result"
    }
   ],
   "source": [
    "nltk.classify.accuracy(classifier, test_set)"
   ]
  },
  {
   "cell_type": "code",
   "execution_count": 43,
   "metadata": {},
   "outputs": [],
   "source": []
  },
  {
   "cell_type": "code",
   "execution_count": 44,
   "metadata": {},
   "outputs": [
    {
     "data": {
      "text/plain": [
       "<SklearnClassifier(SVC(C=1.0, cache_size=200, class_weight=None, coef0=0.0,\n",
       "  decision_function_shape='ovr', degree=3, gamma='auto', kernel='sigmoid',\n",
       "  max_iter=-1, probability=False, random_state=None, shrinking=True,\n",
       "  tol=0.001, verbose=False))>"
      ]
     },
     "execution_count": 44,
     "metadata": {},
     "output_type": "execute_result"
    }
   ],
   "source": []
  },
  {
   "cell_type": "code",
   "execution_count": 45,
   "metadata": {},
   "outputs": [
    {
     "data": {
      "text/plain": [
       "0.4826086956521739"
      ]
     },
     "execution_count": 45,
     "metadata": {},
     "output_type": "execute_result"
    }
   ],
   "source": []
  }
 ],
 "metadata": {
  "kernelspec": {
   "display_name": "Python 3",
   "language": "python",
   "name": "python3"
  },
  "language_info": {
   "codemirror_mode": {
    "name": "ipython",
    "version": 3
   },
   "file_extension": ".py",
   "mimetype": "text/x-python",
   "name": "python",
   "nbconvert_exporter": "python",
   "pygments_lexer": "ipython3",
   "version": "3.6.6"
  }
 },
 "nbformat": 4,
 "nbformat_minor": 2
}
