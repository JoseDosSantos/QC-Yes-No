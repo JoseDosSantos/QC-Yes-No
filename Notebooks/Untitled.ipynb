{
 "cells": [
  {
   "cell_type": "code",
   "execution_count": 1,
   "metadata": {},
   "outputs": [],
   "source": [
    "from requests import get\n",
    "from requests.exceptions import RequestException\n",
    "from contextlib import closing\n",
    "from bs4 import BeautifulSoup\n",
    "import pandas as pd\n",
    "import re\n",
    "import csv"
   ]
  },
  {
   "cell_type": "code",
   "execution_count": 2,
   "metadata": {},
   "outputs": [],
   "source": [
    "CATEGORIES = ['Elektronik & Computer', 'Haushalt, Garten, Baumarkt', 'Beauty, Drogerie & Lebensmittel', 'Spielzeug & Baby', 'Kleidung, Schuhe & Uhren', 'Sport & Freizeit',\n",
    "              'Auto, Motorrad & Gewerbe']"
   ]
  },
  {
   "cell_type": "code",
   "execution_count": 5,
   "metadata": {},
   "outputs": [],
   "source": [
    "def simple_get(url):\n",
    "    \"\"\"\n",
    "    Attempts to get the content at `url` by making an HTTP GET request.\n",
    "    If the content-type of response is some kind of HTML/XML, return the\n",
    "    text content, otherwise return None.\n",
    "    \"\"\"\n",
    "    try:\n",
    "        with closing(get(url, stream=True)) as resp:\n",
    "            if is_good_response(resp):\n",
    "                return resp.content\n",
    "            else:\n",
    "                return None\n",
    "\n",
    "    except RequestException as e:\n",
    "        log_error('Error during requests to {0} : {1}'.format(url, str(e)))\n",
    "        return None\n",
    "\n",
    "def is_good_response(resp):\n",
    "    \"\"\"\n",
    "    Returns True if the response seems to be HTML, False otherwise.\n",
    "    \"\"\"\n",
    "    content_type = resp.headers['Content-Type'].lower()\n",
    "    return (resp.status_code == 200\n",
    "            and content_type is not None\n",
    "            and content_type.find('html') > -1)\n",
    "\n",
    "def log_error(e):\n",
    "    \"\"\"\n",
    "    It is always a good idea to log errors.\n",
    "    This function just prints them, but you can\n",
    "    make it do anything.\n",
    "    \"\"\"\n",
    "    print(e)"
   ]
  },
  {
   "cell_type": "code",
   "execution_count": 6,
   "metadata": {},
   "outputs": [],
   "source": [
    "raw_html = simple_get('https://smile.amazon.de/gp/site-directory/ref=nav_shopall_btn')\n",
    "html = BeautifulSoup(raw_html, 'html.parser')\n",
    "category_table = html.find('table',  {\"id\": \"shopAllLinks\"})\n",
    "big_category_div = category_table.find_all('div', class_='popover-grouping')"
   ]
  },
  {
   "cell_type": "code",
   "execution_count": 7,
   "metadata": {},
   "outputs": [],
   "source": [
    "all_categories = []\n",
    "for i, div in enumerate(big_category_div):\n",
    "    if div.find('h2').text in CATEGORIES:\n",
    "        for link in div.find_all('a'):\n",
    "            if 'node' in link['href']:\n",
    "                all_categories.append(link['href'])"
   ]
  },
  {
   "cell_type": "code",
   "execution_count": 12,
   "metadata": {},
   "outputs": [],
   "source": [
    "link = all_categories[1]\n",
    "full_url = 'https://www.amazon.de' + link\n",
    "page = BeautifulSoup(simple_get(full_url), 'html.parser')"
   ]
  },
  {
   "cell_type": "code",
   "execution_count": 16,
   "metadata": {},
   "outputs": [],
   "source": [
    "products = page.find_all('a')"
   ]
  },
  {
   "cell_type": "code",
   "execution_count": 29,
   "metadata": {},
   "outputs": [],
   "source": [
    "def get_product_link(url):\n",
    "    pattern_numbers_strings = re.compile(r'\\/[A-Z0-9]{10}')\n",
    "    pattern_numbers = re.compile(r'[0-9]+')\n",
    "    pattern_strings = re.compile(r'[a-zA-Z]+')\n",
    "    match = pattern_numbers_strings.findall(url)\n",
    "    if match:\n",
    "        if pattern_numbers.findall(match[0]):\n",
    "            if pattern_strings.findall(match[0]):\n",
    "                return match[0]\n",
    "    return None\n"
   ]
  },
  {
   "cell_type": "code",
   "execution_count": 31,
   "metadata": {},
   "outputs": [
    {
     "data": {
      "text/plain": [
       "{'/B00J0S6QZ6',\n",
       " '/B00LN803LE',\n",
       " '/B00WLI5E3M',\n",
       " '/B01BBWWFB2',\n",
       " '/B01BTZFM0W',\n",
       " '/B01CU1EC6Y',\n",
       " '/B01EY78FQU',\n",
       " '/B01GJC4WRO',\n",
       " '/B01MCW7EOW',\n",
       " '/B01MPWZ4M7',\n",
       " '/B06XCJP94G',\n",
       " '/B06XJ49G5B',\n",
       " '/B07215Q3Y1',\n",
       " '/B0725WZK1N',\n",
       " '/B0756BRVXJ',\n",
       " '/B0756CYWWD',\n",
       " '/B075LXNGFH',\n",
       " '/B0787SZTQV',\n",
       " '/B07BHDC9V6',\n",
       " '/B07G4M421W',\n",
       " '/B07G4P7MVG',\n",
       " '/B07G4PKF7S',\n",
       " '/B07G4SZ27D',\n",
       " '/B07GPQWZQ2',\n",
       " '/B07GPR11N1',\n",
       " '/B07GQ4H6KX',\n",
       " '/B07GQ6HTCN',\n",
       " '/B07GQ6KPRJ',\n",
       " '/B07GQ6L7S3',\n",
       " '/B07GQ6YMXC',\n",
       " '/B07GQ6Z4JQ'}"
      ]
     },
     "execution_count": 31,
     "metadata": {},
     "output_type": "execute_result"
    }
   ],
   "source": [
    "product_ids = []\n",
    "for i, paragraph in enumerate(products):\n",
    "    if paragraph.has_attr('href'):\n",
    "        id = get_product_link(paragraph['href'])\n",
    "        if id:\n",
    "            product_ids.append(id)\n",
    "set(product_ids)"
   ]
  },
  {
   "cell_type": "code",
   "execution_count": null,
   "metadata": {},
   "outputs": [],
   "source": []
  },
  {
   "cell_type": "code",
   "execution_count": null,
   "metadata": {},
   "outputs": [],
   "source": [
    "for i, paragraph in enumerate(products):\n",
    "    if paragraph.has_attr('href'):\n",
    "        id = get_product_link(paragraph['href'])\n",
    "        print(id)\n",
    "        if id:\n",
    "            if not id in product_ids:\n",
    "                product_ids.append(id)\n",
    "                writer.writerow(id)\n",
    "                print(i, ' ', paragraph.text)\n"
   ]
  },
  {
   "cell_type": "code",
   "execution_count": 39,
   "metadata": {},
   "outputs": [
    {
     "data": {
      "text/plain": [
       "3897"
      ]
     },
     "execution_count": 39,
     "metadata": {},
     "output_type": "execute_result"
    }
   ],
   "source": [
    "import os\n",
    "products = []\n",
    "path = 'C:\\\\Users\\\\Josef\\\\PycharmProjects\\\\QC-Yes-No\\\\Tweet extraction\\\\products\\\\'\n",
    "for file in os.listdir(path):\n",
    "    with open(path + file, 'r') as csvfile:\n",
    "        reader = csv.reader(csvfile, delimiter=';')\n",
    "        for row in reader:\n",
    "            products.append(row[0])\n",
    "len(set(products))"
   ]
  }
 ],
 "metadata": {
  "kernelspec": {
   "display_name": "Python 3",
   "language": "python",
   "name": "python3"
  },
  "language_info": {
   "codemirror_mode": {
    "name": "ipython",
    "version": 3
   },
   "file_extension": ".py",
   "mimetype": "text/x-python",
   "name": "python",
   "nbconvert_exporter": "python",
   "pygments_lexer": "ipython3",
   "version": "3.6.6"
  }
 },
 "nbformat": 4,
 "nbformat_minor": 2
}
