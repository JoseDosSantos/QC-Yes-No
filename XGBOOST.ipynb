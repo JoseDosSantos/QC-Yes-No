{
 "cells": [
  {
   "cell_type": "markdown",
   "metadata": {},
   "source": [
    "# XGBoost Classifier"
   ]
  },
  {
   "cell_type": "markdown",
   "metadata": {},
   "source": [
    "### 1. Module Import\n",
    "***"
   ]
  },
  {
   "cell_type": "code",
   "execution_count": 11,
   "metadata": {},
   "outputs": [],
   "source": [
    "import xgboost as xgb\n",
    "import pandas as pd\n",
    "import numpy as np\n",
    "import Classification.config as cfg\n",
    "import csv\n",
    "import nltk\n",
    "import re\n",
    "import random\n",
    "import warnings\n",
    "import spacy\n",
    "import pickle\n",
    "import time\n",
    "from nltk.util import ngrams\n",
    "from copy import deepcopy\n",
    "from sklearn.metrics import mean_squared_error\n",
    "from sklearn.metrics import accuracy_score\n",
    "from sklearn.model_selection import train_test_split\n",
    "warnings.filterwarnings('ignore')"
   ]
  },
  {
   "cell_type": "markdown",
   "metadata": {},
   "source": [
    "\n",
    "### 2.1 Defining the string cleaner"
   ]
  },
  {
   "cell_type": "code",
   "execution_count": 2,
   "metadata": {},
   "outputs": [],
   "source": [
    "def clean(string):\n",
    "    #return string\n",
    "    clean_string = string.replace(u'\\xa0', u' ')\n",
    "    clean_string = re.sub(r'\\d+', ' number ', clean_string)\n",
    "    clean_string = re.sub(r'Ä', 'Ae', clean_string)\n",
    "    clean_string = re.sub(r'ä', 'ae', clean_string)\n",
    "    clean_string = re.sub(r'Ö', 'Oe', clean_string)\n",
    "    clean_string = re.sub(r'ö', 'oe', clean_string)\n",
    "    clean_string = re.sub(r'Ü', 'Ue', clean_string)\n",
    "    clean_string = re.sub(r'ü', 'ue', clean_string)\n",
    "    clean_string = re.sub(r'ß', 'ss', clean_string)\n",
    "    clean_string = re.sub(r'°', ' Grad ', clean_string)\n",
    "    clean_string = re.sub(r'/', ' oder ', clean_string)\n",
    "    clean_string = re.sub(r'%', ' Prozent ', clean_string)\n",
    "    clean_string = re.sub(r'[Zz][Bb]', 'zum Beispiel', clean_string)\n",
    "    clean_string = re.sub(r'[Dd][Hh]', 'das heißt', clean_string)\n",
    "    clean_string = re.sub(r'[Bb][Ss][Pp][Ww]', 'beispielsweise', clean_string)\n",
    "    clean_string = re.sub(r'[Hh]allo', '', clean_string)\n",
    "    clean_string = re.sub(r'[Hh]i', '', clean_string)\n",
    "    clean_string = re.sub(r'[Hh]ey', '', clean_string)\n",
    "    clean_string = re.sub(r'[Gg]uten\\s[Mm]orgen', '', clean_string)\n",
    "    clean_string = re.sub(r'[Gg]uten\\s[Aa]bend', '', clean_string)\n",
    "    \n",
    "    clean_string = re.sub(r'(\\([^)]*\\))', ' ', clean_string)\n",
    "    clean_string = re.sub(r'\"', '', clean_string)\n",
    "    clean_string = re.sub(r'\\+', '', clean_string)\n",
    "    clean_string = re.sub(r'-', '', clean_string)\n",
    "    clean_string = re.sub(r',', '', clean_string)\n",
    "    clean_string = re.sub(r'\\^', '', clean_string)\n",
    "    clean_string = re.sub(r'\\'', '', clean_string)\n",
    "    clean_string = re.sub(r'`', '', clean_string)\n",
    "    clean_string = re.sub(r'´', '', clean_string)\n",
    "\n",
    "\n",
    "    clean_string = re.sub(r'\\'', '', clean_string)\n",
    "    clean_string = re.sub(r'\\.', '', clean_string)\n",
    "    clean_string = re.sub(r'\\s{2,}', ' ', clean_string)\n",
    "    clean_string = re.sub(r'\\s(?=\\?)', ' ', clean_string)\n",
    "    clean_string = re.sub(r'\\?*(?=(?:\\?))', '', clean_string)\n",
    "    clean_string = clean_string.strip()\n",
    "    #bitte, danke, und, eigentlich, überhaupt, git, wirklich\n",
    "    return clean_string#.lower()"
   ]
  },
  {
   "cell_type": "markdown",
   "metadata": {},
   "source": [
    "\n",
    "### 2.2 Building the lemmatizer"
   ]
  },
  {
   "cell_type": "code",
   "execution_count": 3,
   "metadata": {},
   "outputs": [],
   "source": [
    "nlp = spacy.load('de')\n",
    "\n",
    "def lemmatizer(text):\n",
    "    sent = []\n",
    "    doc = nlp(text)\n",
    "    for word in doc:\n",
    "        sent.append(word.lemma_)\n",
    "    return \" \".join(sent)"
   ]
  },
  {
   "cell_type": "markdown",
   "metadata": {},
   "source": [
    "\n",
    "### 3.1 Importing the dataset"
   ]
  },
  {
   "cell_type": "code",
   "execution_count": 4,
   "metadata": {},
   "outputs": [
    {
     "name": "stdout",
     "output_type": "stream",
     "text": [
      "(30/30 Imported file C:\\Users\\Josef\\PycharmProjects\\QC-Yes-No\\Corpus\\Tweets\\data\\output_1000_tweets_2018-09-22_17-18-48\\classified.csv. Total length: 5012)\n",
      "\n",
      "Import finished. Total length of data set: 5012\n"
     ]
    }
   ],
   "source": [
    "data_set = []\n",
    "for i, file in enumerate(cfg.ALL_FILES):\n",
    "    file_count = len(cfg.ALL_FILES)\n",
    "    reader = csv.reader(open(file, 'r'), delimiter=';')\n",
    "    for line in reader:\n",
    "        try:\n",
    "            data_set.append([lemmatizer(clean(line[0])).lower(), line[1]])\n",
    "        except Exception as e:\n",
    "            print(e)\n",
    "    print(('({0}/{1} Imported file {2}. Total length: {3})'.format(i + 1, file_count, file, len(data_set))), end='\\r')\n",
    "print('\\n\\nImport finished. Total length of data set: {}'.format(len(data_set)))\n",
    "data_set_frame = pd.DataFrame(data_set, columns =['Feature', 'Label'])"
   ]
  },
  {
   "cell_type": "markdown",
   "metadata": {},
   "source": [
    "\n",
    "### 3.2 Creating PosTag feature"
   ]
  },
  {
   "cell_type": "code",
   "execution_count": 5,
   "metadata": {},
   "outputs": [
    {
     "name": "stdout",
     "output_type": "stream",
     "text": [
      "Tagged line 5011\r"
     ]
    }
   ],
   "source": [
    "with open('Classification\\\\nltk_german_classifier_data.pickle', 'rb') as f:\n",
    "    tagger = pickle.load(f)\n",
    "    \n",
    "data_set_frame['PosTags'] = ''\n",
    "for i, line in enumerate(data_set_frame['Feature']):\n",
    "    sent = nltk.tokenize.WordPunctTokenizer().tokenize(line)\n",
    "    tag_line = []\n",
    "    for tag in tagger.tag(sent):\n",
    "        tag_line.append(tag[1])\n",
    "    data_set_frame.at[i, 'PosTags'] = tag_line\n",
    "    print(('Tagged line {}'.format(i)), end='\\r')"
   ]
  },
  {
   "cell_type": "code",
   "execution_count": 14,
   "metadata": {},
   "outputs": [
    {
     "name": "stdout",
     "output_type": "stream",
     "text": [
      "2.0000057220458984\n"
     ]
    }
   ],
   "source": [
    "start = time.time()\n",
    "time.sleep(2)\n",
    "print(time.time()-start)"
   ]
  },
  {
   "cell_type": "markdown",
   "metadata": {},
   "source": [
    "\n",
    "### 4. Building the feature bags"
   ]
  },
  {
   "cell_type": "code",
   "execution_count": 6,
   "metadata": {},
   "outputs": [
    {
     "name": "stdout",
     "output_type": "stream",
     "text": [
      "Created bag of words. Amount of words: 5963\n",
      "Created bag of ngrams. Amount of ngrams: 19613\n",
      "Created bag of tags. Amount of tags: 45\n"
     ]
    }
   ],
   "source": [
    "words_bag = set(word for passage in data_set for word in nltk.tokenize.WordPunctTokenizer().tokenize(passage[0]))\n",
    "print('Created bag of words. Amount of words: {0}'.format(len(words_bag)))\n",
    "ngrams_bag = set(gram for passage in data_set for gram in ngrams(nltk.tokenize.WordPunctTokenizer().tokenize(passage[0]), 2))\n",
    "print('Created bag of ngrams. Amount of ngrams: {0}'.format(len(ngrams_bag)))\n",
    "tags_bag = set(tag for index, row in data_set_frame.iterrows() for tag in row['PosTags'])\n",
    "print('Created bag of tags. Amount of tags: {0}'.format(len(tags_bag)))\n"
   ]
  },
  {
   "cell_type": "markdown",
   "metadata": {},
   "source": [
    "### 4.1 Building the evaluation function"
   ]
  },
  {
   "cell_type": "code",
   "execution_count": 13,
   "metadata": {},
   "outputs": [],
   "source": [
    "def evaluate(test_frame, predictions):\n",
    "    #test_frame = pd.DataFrame(y_com_test)\n",
    "    test_frame_local = deepcopy(test_frame)\n",
    "    test_frame_local.columns = ['Label']\n",
    "    test_frame_local['Prediction'] = preds\n",
    "    for index, row in test_frame_local.iterrows():\n",
    "        if row['Prediction'] != row['Label']:\n",
    "            print(index, data_set[index], 'Label:', row['Label'], 'Prediction:', row['Prediction'])"
   ]
  },
  {
   "cell_type": "markdown",
   "metadata": {},
   "source": [
    "\n",
    "### 5.1 Creating words based feature set"
   ]
  },
  {
   "cell_type": "code",
   "execution_count": 7,
   "metadata": {},
   "outputs": [],
   "source": [
    "feature_set_words= [([(word in nltk.tokenize.WordPunctTokenizer().tokenize(data[0])) for word in words_bag], data[1]) for data in data_set]\n",
    "bag_frame_words = pd.DataFrame(feature_set_words)"
   ]
  },
  {
   "cell_type": "markdown",
   "metadata": {},
   "source": [
    "### 5.2 Creating data points for training and evaluation"
   ]
  },
  {
   "cell_type": "code",
   "execution_count": 15,
   "metadata": {},
   "outputs": [],
   "source": [
    "x_word, y_word = bag_frame_words.iloc[:,:-1],bag_frame_words.iloc[:,-1]\n",
    "x_frame_word = pd.DataFrame(x_word[0].tolist(), columns = words_bag)\n",
    "x_word_train, x_word_test, y_word_train, y_word_test = train_test_split(x_frame_word, y_word, test_size=0.2)"
   ]
  },
  {
   "cell_type": "markdown",
   "metadata": {},
   "source": [
    "### 5.3 Training and evaluating the model"
   ]
  },
  {
   "cell_type": "code",
   "execution_count": 16,
   "metadata": {},
   "outputs": [
    {
     "data": {
      "text/plain": [
       "0.9242273180458624"
      ]
     },
     "execution_count": 16,
     "metadata": {},
     "output_type": "execute_result"
    }
   ],
   "source": [
    "xg_class_word = xgb.XGBClassifier(max_depth=5, n_estimators=100, learning_rate=0.125, min_child_weight = 1, njobs=4)\n",
    "xg_class_word.fit(x_word_train, y_word_train)\n",
    "preds = xg_class_word.predict(x_word_test)\n",
    "accuracy_score(preds, y_word_test)"
   ]
  },
  {
   "cell_type": "code",
   "execution_count": null,
   "metadata": {},
   "outputs": [],
   "source": []
  },
  {
   "cell_type": "markdown",
   "metadata": {},
   "source": [
    "### 5.4 Evaluating possible problematic questions"
   ]
  },
  {
   "cell_type": "code",
   "execution_count": 17,
   "metadata": {},
   "outputs": [
    {
     "name": "stdout",
     "output_type": "stream",
     "text": [
      "4242 ['oder geben ich der irgendwo zu kaufen ?', '1'] Label: 1 Prediction: 0\n",
      "3498 ['ich sein auf stellensuche aber wissen nicht wie mein bewerbung daherkommen soll ?', '1'] Label: 1 Prediction: 0\n",
      "4002 ['aber dafuer können ich ein bootsfuehrerschein machen und du so ?', '0'] Label: 0 Prediction: 1\n",
      "1308 ['haben der winkelschleifer wirklich einen leerlaufdrezahl von number number u oder min ?', '1'] Label: 1 Prediction: 0\n",
      "2413 ['wessen werten sinken in bayer ?', '0'] Label: 0 Prediction: 1\n",
      "3930 ['oder haben du ander alternative ?', '1'] Label: 1 Prediction: 0\n",
      "3308 ['bestellst du nie was ?', '1'] Label: 1 Prediction: 0\n",
      "1320 ['sein der helm matt wie auf der bild ?', '1'] Label: 1 Prediction: 0\n",
      "2879 ['um number sein regulaer einlass oder ?', '1'] Label: 1 Prediction: 0\n",
      "3840 ['der tweet haben aber mein mama fuer sich schreiben oder ?', '1'] Label: 1 Prediction: 0\n",
      "3794 ['haben ich was trinken ?', '1'] Label: 1 Prediction: 0\n",
      "2650 ['was meinen du gehen du drauf einen ?', '1'] Label: 1 Prediction: 0\n",
      "4431 ['weiss schon jemand wenn season number kommen ?', '0'] Label: 0 Prediction: 1\n",
      "3123 ['dürfen man sich jetzt wo du zur einrichtung gehoerst endlich reinlassen ?', '1'] Label: 1 Prediction: 0\n",
      "3522 ['sorry und wenn ich ich wirklich schlecht gehen ?', '0'] Label: 0 Prediction: 1\n",
      "1340 ['wieviele gescchten sein pro figur vorhanden ?', '0'] Label: 0 Prediction: 1\n",
      "4576 ['lft sich oder sich einen redundante information weit ?', '1'] Label: 1 Prediction: 0\n",
      "4885 ['merkst du eigentlich noch was ?', '1'] Label: 1 Prediction: 0\n",
      "2544 ['können sich bitte wer sus bringen ?', '1'] Label: 1 Prediction: 0\n",
      "2494 ['haben ich schon sommergrippe oder dürfen ich dies jahr als erst ?', '0'] Label: 0 Prediction: 1\n",
      "4150 ['brauchst du noch ein feuerloescher oder benzin ?', '1'] Label: 1 Prediction: 0\n",
      "2638 ['der wahr problem sein ?', '0'] Label: 0 Prediction: 1\n",
      "4715 ['wollen mein mal lesen wie der klingen wenn ich sich aufregen ?', '1'] Label: 1 Prediction: 0\n",
      "1905 ['können sich bitte jemand der breiten der halterung sagen und der samen benoetigten platzen ?', '0'] Label: 0 Prediction: 1\n",
      "2007 ['wieviele opfern muss ich noch geben ?', '0'] Label: 0 Prediction: 1\n",
      "2059 ['und wisst mein was der allerschlimmste an elternabenden sein ?', '1'] Label: 1 Prediction: 0\n",
      "3992 ['wozu brauch ich der ?', '0'] Label: 0 Prediction: 1\n",
      "4120 ['wisst mein was ?', '1'] Label: 1 Prediction: 0\n",
      "1304 ['wieviele tagen kommen man mit einer tube n ?', '0'] Label: 0 Prediction: 1\n",
      "962 ['wieviele jahr haelt der kegelwerk in etwa ?', '0'] Label: 0 Prediction: 1\n",
      "2399 ['sein ich sich bewusst darueber wie viel ich sein ?', '1'] Label: 1 Prediction: 0\n",
      "3528 ['hab ich was verpasst ?', '1'] Label: 1 Prediction: 0\n",
      "1656 ['können oder dürfen man der sitz auch auf der beifahrerseite verwenden ?', '1'] Label: 1 Prediction: 0\n",
      "4255 ['wovon reden ich ?', '0'] Label: 0 Prediction: 1\n",
      "495 ['sein der stiften oder farbe auch auf hell untergrund schoen oder gut sichtbar ?', '1'] Label: 1 Prediction: 0\n",
      "1739 ['wuerde dies grafikkarte auf dies motherboard passen ?', '0'] Label: 0 Prediction: 1\n",
      "1574 ['entspricht der farbe bordeaux wie der abbildung ?', '1'] Label: 1 Prediction: 0\n",
      "2870 ['weisst du wie der pedal funktionieren ?', '1'] Label: 1 Prediction: 0\n",
      "4698 ['lust spaeter ein kaffee oder einen bier zu trinken ?', '1'] Label: 1 Prediction: 0\n",
      "2541 ['wisst mein wie sehr ich trueffel mögen ?', '1'] Label: 1 Prediction: 0\n",
      "3291 ['weiss jemand wieso ich in berlin so mega angekokelt riechen ?', '1'] Label: 1 Prediction: 0\n",
      "4781 ['wisst mein was der traurig sein ?', '1'] Label: 1 Prediction: 0\n",
      "3690 ['glaube ich alle was sich in der nachricht praesentiert werden ?', '1'] Label: 1 Prediction: 0\n",
      "1121 ['sein der rucksack pink oder schwarz ?', '1'] Label: 1 Prediction: 0\n",
      "3625 ['sein der nicht genauso kontraproduktiv wie einen kopfschmerztagebuch ?', '1'] Label: 1 Prediction: 0\n",
      "4630 ['wisst mein was lustig sein ?', '1'] Label: 1 Prediction: 0\n",
      "4568 ['won steuern der gesellschaft ?', '0'] Label: 0 Prediction: 1\n",
      "1626 ['wie langen dauern der versand bei standardversand wirklich der number woche ?', '1'] Label: 1 Prediction: 0\n",
      "2126 ['ich suchen gut mitspieler oder wollen einfach mal mit der pros reden ?', '1'] Label: 1 Prediction: 0\n",
      "4826 ['kennt noch jemand jemand der dies ratgeber gebrauchen können ?', '0'] Label: 0 Prediction: 1\n",
      "4158 ['sein denn geklaert wer der schlaegerei anfangen haben ?', '1'] Label: 1 Prediction: 0\n",
      "79 ['won werden der beta code versenden ?', '0'] Label: 0 Prediction: 1\n",
      "1487 ['haben der tasche innentaschen oder sonst irgendwelche einteilung ?', '1'] Label: 1 Prediction: 0\n",
      "3019 ['fragt mein sich nicht auch ab und an warum einen bisschen gruen im blau von auge einen makel sein ?', '1'] Label: 1 Prediction: 0\n",
      "3605 ['won steuern europa nur ?', '0'] Label: 0 Prediction: 1\n",
      "1682 ['woraus bestehen ich um bruch waehrend der treten zu verndern ?', '0'] Label: 0 Prediction: 1\n",
      "4914 ['weisst du noch woher du der pulli haben ?', '1'] Label: 1 Prediction: 0\n",
      "2474 ['kennt man oder ?', '1'] Label: 1 Prediction: 0\n",
      "3470 ['wessen mutter haben ich problem ?', '0'] Label: 0 Prediction: 1\n",
      "2613 ['bringst sich was mit ?', '1'] Label: 1 Prediction: 0\n",
      "1559 ['können sich jemand der masse vom klingelknopf geben ?', '0'] Label: 0 Prediction: 1\n",
      "422 ['wieviele broetchen können man aufbacken ?', '0'] Label: 0 Prediction: 1\n",
      "4650 ['und worauf beziehen sich der ?', '0'] Label: 0 Prediction: 1\n",
      "2787 ['ich wohnen in ffm und regen sich ueber falschparker oder steher auf ?', '1'] Label: 1 Prediction: 0\n",
      "3747 ['wissen mein mutti oder der ex davon ?', '1'] Label: 1 Prediction: 0\n",
      "4934 ['sein der was du da schreiben rap ?', '1'] Label: 1 Prediction: 0\n",
      "709 ['wielang sein der reale akkulaufzeit bei eingeschaltet gps ?', '0'] Label: 0 Prediction: 1\n",
      "848 ['ich sein im lieferumfang ja einen paar kleine schwaemmchen won kommen der denn ?', '0'] Label: 0 Prediction: 1\n",
      "2182 ['alle wie immer ?', '1'] Label: 1 Prediction: 0\n",
      "3940 ['eine entspannen serie der nebenbei laufen können ?', '0'] Label: 0 Prediction: 1\n",
      "3896 ['wisst mein was haesslich sein ?', '1'] Label: 1 Prediction: 0\n",
      "4815 ['haben jemand einen gut empfehlung fuer ein neu ?', '0'] Label: 0 Prediction: 1\n",
      "4310 ['ich rechtfertigen also mein verhalten was du im internet ablegen damit dass du waise sein ?', '1'] Label: 1 Prediction: 0\n",
      "4374 ['wovor haben du am meist angst ?', '0'] Label: 0 Prediction: 1\n",
      "2008 ['wievie leiden muessen der angehoerigen noch ertragen ?', '0'] Label: 0 Prediction: 1\n",
      "4764 ['aber was bei ich rauskommt haben ich nicht verraten ?', '1'] Label: 1 Prediction: 0\n"
     ]
    }
   ],
   "source": [
    "evaluate(pd.DataFrame(y_word_test), preds)"
   ]
  },
  {
   "cell_type": "markdown",
   "metadata": {},
   "source": [
    "\n",
    "### 6.1 Creating ngrams of words based feature set"
   ]
  },
  {
   "cell_type": "code",
   "execution_count": 37,
   "metadata": {},
   "outputs": [
    {
     "ename": "KeyboardInterrupt",
     "evalue": "",
     "output_type": "error",
     "traceback": [
      "\u001b[1;31m---------------------------------------------------------------------------\u001b[0m",
      "\u001b[1;31mKeyboardInterrupt\u001b[0m                         Traceback (most recent call last)",
      "\u001b[1;32m<ipython-input-37-f46485beccd0>\u001b[0m in \u001b[0;36m<module>\u001b[1;34m()\u001b[0m\n\u001b[1;32m----> 1\u001b[1;33m \u001b[0mfeature_set_ngrams\u001b[0m \u001b[1;33m=\u001b[0m \u001b[1;33m[\u001b[0m\u001b[1;33m(\u001b[0m\u001b[1;33m[\u001b[0m\u001b[1;33m(\u001b[0m\u001b[0mgram\u001b[0m \u001b[1;32min\u001b[0m \u001b[0mngrams\u001b[0m\u001b[1;33m(\u001b[0m\u001b[0mnltk\u001b[0m\u001b[1;33m.\u001b[0m\u001b[0mtokenize\u001b[0m\u001b[1;33m.\u001b[0m\u001b[0mWordPunctTokenizer\u001b[0m\u001b[1;33m(\u001b[0m\u001b[1;33m)\u001b[0m\u001b[1;33m.\u001b[0m\u001b[0mtokenize\u001b[0m\u001b[1;33m(\u001b[0m\u001b[0mdata\u001b[0m\u001b[1;33m[\u001b[0m\u001b[1;36m0\u001b[0m\u001b[1;33m]\u001b[0m\u001b[1;33m)\u001b[0m\u001b[1;33m,\u001b[0m \u001b[1;36m2\u001b[0m\u001b[1;33m)\u001b[0m\u001b[1;33m)\u001b[0m \u001b[1;32mfor\u001b[0m \u001b[0mgram\u001b[0m \u001b[1;32min\u001b[0m \u001b[0mngrams_bag\u001b[0m\u001b[1;33m]\u001b[0m\u001b[1;33m,\u001b[0m \u001b[0mdata\u001b[0m\u001b[1;33m[\u001b[0m\u001b[1;36m1\u001b[0m\u001b[1;33m]\u001b[0m\u001b[1;33m)\u001b[0m \u001b[1;32mfor\u001b[0m \u001b[0mdata\u001b[0m \u001b[1;32min\u001b[0m \u001b[0mdata_set\u001b[0m\u001b[1;33m]\u001b[0m\u001b[1;33m\u001b[0m\u001b[0m\n\u001b[0m\u001b[0;32m      2\u001b[0m \u001b[0mbag_frame_ngram\u001b[0m \u001b[1;33m=\u001b[0m \u001b[0mpd\u001b[0m\u001b[1;33m.\u001b[0m\u001b[0mDataFrame\u001b[0m\u001b[1;33m(\u001b[0m\u001b[0mfeature_set_ngrams\u001b[0m\u001b[1;33m)\u001b[0m\u001b[1;33m\u001b[0m\u001b[0m\n",
      "\u001b[1;32m<ipython-input-37-f46485beccd0>\u001b[0m in \u001b[0;36m<listcomp>\u001b[1;34m(.0)\u001b[0m\n\u001b[1;32m----> 1\u001b[1;33m \u001b[0mfeature_set_ngrams\u001b[0m \u001b[1;33m=\u001b[0m \u001b[1;33m[\u001b[0m\u001b[1;33m(\u001b[0m\u001b[1;33m[\u001b[0m\u001b[1;33m(\u001b[0m\u001b[0mgram\u001b[0m \u001b[1;32min\u001b[0m \u001b[0mngrams\u001b[0m\u001b[1;33m(\u001b[0m\u001b[0mnltk\u001b[0m\u001b[1;33m.\u001b[0m\u001b[0mtokenize\u001b[0m\u001b[1;33m.\u001b[0m\u001b[0mWordPunctTokenizer\u001b[0m\u001b[1;33m(\u001b[0m\u001b[1;33m)\u001b[0m\u001b[1;33m.\u001b[0m\u001b[0mtokenize\u001b[0m\u001b[1;33m(\u001b[0m\u001b[0mdata\u001b[0m\u001b[1;33m[\u001b[0m\u001b[1;36m0\u001b[0m\u001b[1;33m]\u001b[0m\u001b[1;33m)\u001b[0m\u001b[1;33m,\u001b[0m \u001b[1;36m2\u001b[0m\u001b[1;33m)\u001b[0m\u001b[1;33m)\u001b[0m \u001b[1;32mfor\u001b[0m \u001b[0mgram\u001b[0m \u001b[1;32min\u001b[0m \u001b[0mngrams_bag\u001b[0m\u001b[1;33m]\u001b[0m\u001b[1;33m,\u001b[0m \u001b[0mdata\u001b[0m\u001b[1;33m[\u001b[0m\u001b[1;36m1\u001b[0m\u001b[1;33m]\u001b[0m\u001b[1;33m)\u001b[0m \u001b[1;32mfor\u001b[0m \u001b[0mdata\u001b[0m \u001b[1;32min\u001b[0m \u001b[0mdata_set\u001b[0m\u001b[1;33m]\u001b[0m\u001b[1;33m\u001b[0m\u001b[0m\n\u001b[0m\u001b[0;32m      2\u001b[0m \u001b[0mbag_frame_ngram\u001b[0m \u001b[1;33m=\u001b[0m \u001b[0mpd\u001b[0m\u001b[1;33m.\u001b[0m\u001b[0mDataFrame\u001b[0m\u001b[1;33m(\u001b[0m\u001b[0mfeature_set_ngrams\u001b[0m\u001b[1;33m)\u001b[0m\u001b[1;33m\u001b[0m\u001b[0m\n",
      "\u001b[1;32m<ipython-input-37-f46485beccd0>\u001b[0m in \u001b[0;36m<listcomp>\u001b[1;34m(.0)\u001b[0m\n\u001b[1;32m----> 1\u001b[1;33m \u001b[0mfeature_set_ngrams\u001b[0m \u001b[1;33m=\u001b[0m \u001b[1;33m[\u001b[0m\u001b[1;33m(\u001b[0m\u001b[1;33m[\u001b[0m\u001b[1;33m(\u001b[0m\u001b[0mgram\u001b[0m \u001b[1;32min\u001b[0m \u001b[0mngrams\u001b[0m\u001b[1;33m(\u001b[0m\u001b[0mnltk\u001b[0m\u001b[1;33m.\u001b[0m\u001b[0mtokenize\u001b[0m\u001b[1;33m.\u001b[0m\u001b[0mWordPunctTokenizer\u001b[0m\u001b[1;33m(\u001b[0m\u001b[1;33m)\u001b[0m\u001b[1;33m.\u001b[0m\u001b[0mtokenize\u001b[0m\u001b[1;33m(\u001b[0m\u001b[0mdata\u001b[0m\u001b[1;33m[\u001b[0m\u001b[1;36m0\u001b[0m\u001b[1;33m]\u001b[0m\u001b[1;33m)\u001b[0m\u001b[1;33m,\u001b[0m \u001b[1;36m2\u001b[0m\u001b[1;33m)\u001b[0m\u001b[1;33m)\u001b[0m \u001b[1;32mfor\u001b[0m \u001b[0mgram\u001b[0m \u001b[1;32min\u001b[0m \u001b[0mngrams_bag\u001b[0m\u001b[1;33m]\u001b[0m\u001b[1;33m,\u001b[0m \u001b[0mdata\u001b[0m\u001b[1;33m[\u001b[0m\u001b[1;36m1\u001b[0m\u001b[1;33m]\u001b[0m\u001b[1;33m)\u001b[0m \u001b[1;32mfor\u001b[0m \u001b[0mdata\u001b[0m \u001b[1;32min\u001b[0m \u001b[0mdata_set\u001b[0m\u001b[1;33m]\u001b[0m\u001b[1;33m\u001b[0m\u001b[0m\n\u001b[0m\u001b[0;32m      2\u001b[0m \u001b[0mbag_frame_ngram\u001b[0m \u001b[1;33m=\u001b[0m \u001b[0mpd\u001b[0m\u001b[1;33m.\u001b[0m\u001b[0mDataFrame\u001b[0m\u001b[1;33m(\u001b[0m\u001b[0mfeature_set_ngrams\u001b[0m\u001b[1;33m)\u001b[0m\u001b[1;33m\u001b[0m\u001b[0m\n",
      "\u001b[1;32mc:\\users\\josef\\anaconda3\\envs\\question_classification\\lib\\site-packages\\nltk\\util.py\u001b[0m in \u001b[0;36mngrams\u001b[1;34m(sequence, n, pad_left, pad_right, left_pad_symbol, right_pad_symbol)\u001b[0m\n\u001b[0;32m    424\u001b[0m \u001b[1;31m# add a flag to pad the sequence so we get peripheral ngrams?\u001b[0m\u001b[1;33m\u001b[0m\u001b[1;33m\u001b[0m\u001b[0m\n\u001b[0;32m    425\u001b[0m \u001b[1;33m\u001b[0m\u001b[0m\n\u001b[1;32m--> 426\u001b[1;33m def ngrams(sequence, n, pad_left=False, pad_right=False,\n\u001b[0m\u001b[0;32m    427\u001b[0m            left_pad_symbol=None, right_pad_symbol=None):\n\u001b[0;32m    428\u001b[0m     \"\"\"\n",
      "\u001b[1;31mKeyboardInterrupt\u001b[0m: "
     ]
    }
   ],
   "source": [
    "feature_set_ngrams = [([(gram in ngrams(nltk.tokenize.WordPunctTokenizer().tokenize(data[0]), 2)) for gram in ngrams_bag], data[1]) for data in data_set]\n",
    "bag_frame_ngram = pd.DataFrame(feature_set_ngrams)"
   ]
  },
  {
   "cell_type": "markdown",
   "metadata": {},
   "source": [
    "### 6.2 Creating data points for training and evaluation"
   ]
  },
  {
   "cell_type": "code",
   "execution_count": 171,
   "metadata": {},
   "outputs": [],
   "source": [
    "x_ngram, y_ngram = bag_frame_ngram.iloc[:,:-1],bag_frame_ngram.iloc[:,-1]\n",
    "x_frame_ngram = pd.DataFrame(x_ngram[0].tolist(), columns = ngrams_bag)\n",
    "x_ngram_train, x_ngram_test, y_ngram_train, y_ngram_test = train_test_split(x_frame_ngram, y_ngram, test_size=0.2)"
   ]
  },
  {
   "cell_type": "markdown",
   "metadata": {},
   "source": [
    "### 6.3 Training and evaluating the model"
   ]
  },
  {
   "cell_type": "code",
   "execution_count": 172,
   "metadata": {},
   "outputs": [
    {
     "data": {
      "text/plain": [
       "0.7746759720837487"
      ]
     },
     "execution_count": 172,
     "metadata": {},
     "output_type": "execute_result"
    }
   ],
   "source": [
    "xg_class_ngram = xgb.XGBClassifier(max_depth=6, n_estimators=200, learning_rate=0.15, min_child_weight = 1, njobs=4)\n",
    "xg_class_ngram.fit(x_ngram_train, y_ngram_train)\n",
    "preds = xg_class_ngram.predict(x_ngram_test)\n",
    "accuracy_score(preds, y_ngram_test)"
   ]
  },
  {
   "cell_type": "markdown",
   "metadata": {},
   "source": [
    "### 7.1 Creating postags based feature set"
   ]
  },
  {
   "cell_type": "code",
   "execution_count": 39,
   "metadata": {},
   "outputs": [],
   "source": [
    "with open('Classification\\\\nltk_german_classifier_data.pickle', 'rb') as f:\n",
    "    tagger = pickle.load(f)\n",
    "    \n",
    "data_set_frame = pd.DataFrame(data_set)\n",
    "data_set_frame['PosTags'] = ''\n",
    "for i, line in enumerate(data_set_frame[0]):\n",
    "    sent = nltk.tokenize.WordPunctTokenizer().tokenize(line)\n",
    "    tag_line = []\n",
    "    for tag in tagger.tag(sent):\n",
    "        tag_line.append(tag[1])\n",
    "    data_set_frame.at[i, 'PosTags'] = tag_line"
   ]
  },
  {
   "cell_type": "code",
   "execution_count": 73,
   "metadata": {},
   "outputs": [],
   "source": [
    "bag_frame_pos = pd.DataFrame(feature_set_pos)\n",
    "x_pos, y_pos = bag_frame_pos.iloc[:,:-1],bag_frame_pos.iloc[:,-1]\n",
    "x_frame_pos = pd.DataFrame(x_pos[0].tolist(), columns = tag_bag)\n",
    "x_pos_train, x_pos_test, y_pos_train, y_pos_test = train_test_split(x_frame_pos, y_pos, test_size=0.2)"
   ]
  },
  {
   "cell_type": "code",
   "execution_count": 74,
   "metadata": {},
   "outputs": [
    {
     "data": {
      "text/plain": [
       "0.8983050847457628"
      ]
     },
     "execution_count": 74,
     "metadata": {},
     "output_type": "execute_result"
    }
   ],
   "source": [
    "xg_class_pos = xgb.XGBClassifier(max_depth=6, n_estimators=125, learning_rate=0.125, min_child_weight = 1, njobs=4)\n",
    "xg_class_pos.fit(x_pos_train, y_pos_train)\n",
    "preds = xg_class_pos.predict(x_pos_test)\n",
    "accuracy_score(preds, y_pos_test)"
   ]
  },
  {
   "cell_type": "code",
   "execution_count": 82,
   "metadata": {},
   "outputs": [],
   "source": [
    "x_frame_com = pd.concat([x_frame_pos, x_frame_word], axis=1)\n",
    "x_com_train, x_com_test, y_com_train, y_com_test = train_test_split(x_frame_com, y_pos, test_size=0.2)"
   ]
  },
  {
   "cell_type": "code",
   "execution_count": 84,
   "metadata": {},
   "outputs": [
    {
     "data": {
      "text/plain": [
       "0.9611166500498505"
      ]
     },
     "execution_count": 84,
     "metadata": {},
     "output_type": "execute_result"
    }
   ],
   "source": [
    "xg_class_com = xgb.XGBClassifier(max_depth=6, n_estimators=125, learning_rate=0.125, min_child_weight = 0.5, subsample = 0.5, njobs=4)\n",
    "xg_class_com.fit(x_com_train, y_com_train)\n",
    "preds = xg_class_com.predict(x_com_test)\n",
    "accuracy_score(preds, y_com_test)"
   ]
  },
  {
   "cell_type": "code",
   "execution_count": 101,
   "metadata": {},
   "outputs": [
    {
     "name": "stdout",
     "output_type": "stream",
     "text": [
      "['können sich jemand der masse vom klingelknopf geben ?', '0'] Label: 0 Prediction: 1\n",
      "['aber update kommen heute oder ?', '1'] Label: 1 Prediction: 0\n",
      "['wie immer ?', '1'] Label: 1 Prediction: 0\n",
      "['können oder dürfen man der sitz auch auf der beifahrerseite verwenden ?', '1'] Label: 1 Prediction: 0\n",
      "['woraus bestehen der gelatine ?', '0'] Label: 0 Prediction: 1\n",
      "['haben der tasche innentaschen oder sonst irgendwelche einteilung ?', '1'] Label: 1 Prediction: 0\n",
      "['oder geben ich da etwa besonder umstaende ?', '1'] Label: 1 Prediction: 0\n",
      "['haben ich denn wenigstens welch finden ?', '1'] Label: 1 Prediction: 0\n",
      "['wohnen ich in deutschland oder im urlaub ?', '0'] Label: 0 Prediction: 1\n",
      "['sein der einen rein ladekabel oder auch zum datentransfer eignen ?', '0'] Label: 0 Prediction: 1\n",
      "['wird langsam zeit oder ?', '1'] Label: 1 Prediction: 0\n",
      "['ich können einfach der ganze video mit werbung kennzeichnen oder ?', '1'] Label: 1 Prediction: 0\n",
      "['wollen ich morgen was machen ?', '1'] Label: 1 Prediction: 0\n",
      "['schweppes werden aussprechen wie schreiben ja ?', '1'] Label: 1 Prediction: 0\n",
      "['won fuehrt der weg von sebastian rudy ?', '0'] Label: 0 Prediction: 1\n",
      "['doch wie funktionierts ?', '0'] Label: 0 Prediction: 1\n",
      "['ach da stehen auch welch ?', '1'] Label: 1 Prediction: 0\n",
      "['ich moechte einen garantie dazu erwerben wie gehen der ?', '0'] Label: 0 Prediction: 1\n",
      "['inwiefern unterscheiden sich dies ?', '0'] Label: 0 Prediction: 1\n",
      "['der wie vielte mal sein der inzwischen ?', '0'] Label: 0 Prediction: 1\n",
      "['haben jemand erfahrung wie lang der batterie halten sowohl im sender als auch im empfaenger ?', '0'] Label: 0 Prediction: 1\n",
      "['merkst du eigentlich noch was ?', '1'] Label: 1 Prediction: 0\n",
      "['findest du gut was ?', '1'] Label: 1 Prediction: 0\n",
      "['sein der nicht schon seit jahr satire was dies account twittert ?', '1'] Label: 1 Prediction: 0\n",
      "['der schlaeft oder ?', '1'] Label: 1 Prediction: 0\n",
      "['macht mein was ?', '1'] Label: 1 Prediction: 0\n",
      "['sein dies tsrt auch fuer schwimmbaeder eignen oder zerstoert der chlor der faser und farbe ?', '0'] Label: 0 Prediction: 1\n",
      "['wollen ich oder haben ich ?', '0'] Label: 0 Prediction: 1\n",
      "['sein der stiften oder farbe auch auf hell untergrund schoen oder gut sichtbar ?', '1'] Label: 1 Prediction: 0\n",
      "['renderzentrale dann gleichen neben rewe ?', '0'] Label: 0 Prediction: 1\n",
      "['bloede frage aber wie kriege ich der auf ?', '0'] Label: 0 Prediction: 1\n",
      "['eine entspannen serie der nebenbei laufen können ?', '0'] Label: 0 Prediction: 1\n",
      "['koennten ich sich dann erklaeren wie ich der nbiegen ?', '0'] Label: 0 Prediction: 1\n",
      "['koennen ich auch mein aussage begruenden oder reichen ich dafuer nicht ?', '0'] Label: 0 Prediction: 1\n",
      "['der sein doch eher einen erinnerungsfax oder ?', '1'] Label: 1 Prediction: 0\n",
      "['sein auch der einzig legitime verwendungszweck ein solch ballon oder ?', '1'] Label: 1 Prediction: 0\n",
      "['macht der pumpen genug drucken um damit ein gartenschlauch mit spritzen oder brausen zu benutzen ?', '1'] Label: 1 Prediction: 0\n",
      "['sein alle wirklich so einfach wie ich schreiben oder doch nicht ?', '0'] Label: 0 Prediction: 1\n",
      "['oder sein all zu dazn wechseln ?', '1'] Label: 1 Prediction: 0\n"
     ]
    }
   ],
   "source": [
    "test_frame = pd.DataFrame(y_com_test)\n",
    "test_frame.columns=['Label']\n",
    "test_frame['Prediction']=preds\n",
    "for index, row in test_frame.iterrows():\n",
    "    if row['Prediction'] != row['Label']:\n",
    "        print(data_set[index], 'Label:', row['Label'], 'Prediction:', row['Prediction'] )"
   ]
  },
  {
   "cell_type": "code",
   "execution_count": 88,
   "metadata": {},
   "outputs": [
    {
     "ename": "IndexError",
     "evalue": "only integers, slices (`:`), ellipsis (`...`), numpy.newaxis (`None`) and integer or boolean arrays are valid indices",
     "output_type": "error",
     "traceback": [
      "\u001b[1;31m---------------------------------------------------------------------------\u001b[0m",
      "\u001b[1;31mIndexError\u001b[0m                                Traceback (most recent call last)",
      "\u001b[1;32m<ipython-input-88-33a0c45aacb0>\u001b[0m in \u001b[0;36m<module>\u001b[1;34m()\u001b[0m\n\u001b[0;32m      1\u001b[0m \u001b[0mpreds\u001b[0m\u001b[1;33m\u001b[0m\u001b[0m\n\u001b[1;32m----> 2\u001b[1;33m \u001b[0mwrong\u001b[0m \u001b[1;33m=\u001b[0m \u001b[1;33m[\u001b[0m\u001b[1;33m(\u001b[0m\u001b[0mindex\u001b[0m\u001b[1;33m,\u001b[0m \u001b[0my_com_test\u001b[0m\u001b[1;33m[\u001b[0m\u001b[0mindex\u001b[0m\u001b[1;33m]\u001b[0m\u001b[1;33m)\u001b[0m  \u001b[1;32mfor\u001b[0m \u001b[0mindex\u001b[0m \u001b[1;32min\u001b[0m \u001b[0mpreds\u001b[0m \u001b[1;32mif\u001b[0m \u001b[0mpreds\u001b[0m\u001b[1;33m[\u001b[0m\u001b[0mindex\u001b[0m\u001b[1;33m]\u001b[0m \u001b[1;33m!=\u001b[0m \u001b[0my_com_test\u001b[0m\u001b[1;33m[\u001b[0m\u001b[0mindex\u001b[0m\u001b[1;33m]\u001b[0m\u001b[1;33m]\u001b[0m\u001b[1;33m\u001b[0m\u001b[0m\n\u001b[0m",
      "\u001b[1;32m<ipython-input-88-33a0c45aacb0>\u001b[0m in \u001b[0;36m<listcomp>\u001b[1;34m(.0)\u001b[0m\n\u001b[0;32m      1\u001b[0m \u001b[0mpreds\u001b[0m\u001b[1;33m\u001b[0m\u001b[0m\n\u001b[1;32m----> 2\u001b[1;33m \u001b[0mwrong\u001b[0m \u001b[1;33m=\u001b[0m \u001b[1;33m[\u001b[0m\u001b[1;33m(\u001b[0m\u001b[0mindex\u001b[0m\u001b[1;33m,\u001b[0m \u001b[0my_com_test\u001b[0m\u001b[1;33m[\u001b[0m\u001b[0mindex\u001b[0m\u001b[1;33m]\u001b[0m\u001b[1;33m)\u001b[0m  \u001b[1;32mfor\u001b[0m \u001b[0mindex\u001b[0m \u001b[1;32min\u001b[0m \u001b[0mpreds\u001b[0m \u001b[1;32mif\u001b[0m \u001b[0mpreds\u001b[0m\u001b[1;33m[\u001b[0m\u001b[0mindex\u001b[0m\u001b[1;33m]\u001b[0m \u001b[1;33m!=\u001b[0m \u001b[0my_com_test\u001b[0m\u001b[1;33m[\u001b[0m\u001b[0mindex\u001b[0m\u001b[1;33m]\u001b[0m\u001b[1;33m]\u001b[0m\u001b[1;33m\u001b[0m\u001b[0m\n\u001b[0m",
      "\u001b[1;31mIndexError\u001b[0m: only integers, slices (`:`), ellipsis (`...`), numpy.newaxis (`None`) and integer or boolean arrays are valid indices"
     ]
    }
   ],
   "source": [
    "preds\n",
    "wrong = [(index, y_com_test[index])  for index in preds if preds[index] != y_com_test[index]]"
   ]
  },
  {
   "cell_type": "code",
   "execution_count": 47,
   "metadata": {
    "collapsed": true
   },
   "outputs": [],
   "source": [
    "wrong_2 = [(index, test['Pred'][index])  for index in test.index if test[1][index] != test['Pred'][index]]"
   ]
  },
  {
   "cell_type": "code",
   "execution_count": null,
   "metadata": {
    "collapsed": true
   },
   "outputs": [],
   "source": []
  },
  {
   "cell_type": "code",
   "execution_count": 9,
   "metadata": {},
   "outputs": [],
   "source": [
    "count = {}\n",
    "all_lists = list(pd.DataFrame(data_set)[0])\n",
    "test_string = ''\n",
    "\n",
    "for e,i in enumerate(all_lists):\n",
    "    test_string += ' '\n",
    "    test_string += i\n",
    "    if i.split().count('?') < 1:\n",
    "        print(i, e)\n",
    "test_string = test_string.split()\n",
    "\n",
    "for word in words_bag:\n",
    "    count[word] = test_string.count(word)\n",
    "import operator\n",
    "sorted_x = sorted(count.items(), key=operator.itemgetter(1), reverse=True)"
   ]
  },
  {
   "cell_type": "code",
   "execution_count": 10,
   "metadata": {},
   "outputs": [],
   "source": [
    "frame = pd.DataFrame(sorted_x)\n",
    "frame.set_index(0, inplace=True)"
   ]
  },
  {
   "cell_type": "code",
   "execution_count": 263,
   "metadata": {},
   "outputs": [
    {
     "ename": "NameError",
     "evalue": "name 'prozent' is not defined",
     "output_type": "error",
     "traceback": [
      "\u001b[1;31m---------------------------------------------------------------------------\u001b[0m",
      "\u001b[1;31mNameError\u001b[0m                                 Traceback (most recent call last)",
      "\u001b[1;32m<ipython-input-263-3b15f69b6e15>\u001b[0m in \u001b[0;36m<module>\u001b[1;34m()\u001b[0m\n\u001b[1;32m----> 1\u001b[1;33m \u001b[0mframe\u001b[0m\u001b[1;33m[\u001b[0m\u001b[1;36m1\u001b[0m\u001b[1;33m]\u001b[0m\u001b[1;33m[\u001b[0m\u001b[0mprozent\u001b[0m\u001b[1;33m]\u001b[0m\u001b[1;33m\u001b[0m\u001b[0m\n\u001b[0m",
      "\u001b[1;31mNameError\u001b[0m: name 'prozent' is not defined"
     ]
    }
   ],
   "source": [
    "frame[1][prozent]"
   ]
  },
  {
   "cell_type": "code",
   "execution_count": 11,
   "metadata": {},
   "outputs": [
    {
     "name": "stdout",
     "output_type": "stream",
     "text": [
      "Checked row: 5011Checked row: 4151\r"
     ]
    }
   ],
   "source": [
    "from copy import deepcopy\n",
    "test_frame = deepcopy(data_set_frame)\n",
    "test_frame['Feature_min'] = ''\n",
    "for index, row in test_frame.iterrows():\n",
    "    for word in row['Feature'].rsplit():\n",
    "        if frame[1][word] > 10:\n",
    "            test_frame.at[index, 'Feature_min'] += (word + ' ')\n",
    "        test_frame.at[index, 'Feature_min'] = test_frame.at[index, 'Feature_min']\n",
    "    print(('Checked row: {}'.format(index)), end='\\r')"
   ]
  },
  {
   "cell_type": "code",
   "execution_count": 12,
   "metadata": {},
   "outputs": [],
   "source": [
    "words_bag_min = set(word for word in words_bag if frame[1][word] > 50)\n"
   ]
  },
  {
   "cell_type": "code",
   "execution_count": 13,
   "metadata": {},
   "outputs": [],
   "source": [
    "feature_set_words_min= [([(word in data[3].split()) for word in words_bag_min], data[1]) for index, data in test_frame.iterrows()]\n",
    "bag_frame_words_min = pd.DataFrame(feature_set_words_min)"
   ]
  },
  {
   "cell_type": "code",
   "execution_count": 18,
   "metadata": {},
   "outputs": [],
   "source": [
    "x_word_min, y_word_min = bag_frame_words_min.iloc[:,:-1],bag_frame_words_min.iloc[:,-1]\n",
    "x_frame_word_min = pd.DataFrame(x_word_min[0].tolist(), columns = words_bag_min)\n",
    "x_word_min_train, x_word_min_test, y_word_min_train, y_word_min_test = train_test_split(x_frame_word_min, y_word_min, test_size=0.2)"
   ]
  },
  {
   "cell_type": "code",
   "execution_count": 32,
   "metadata": {},
   "outputs": [
    {
     "data": {
      "text/plain": [
       "0.9192422731804586"
      ]
     },
     "execution_count": 32,
     "metadata": {},
     "output_type": "execute_result"
    }
   ],
   "source": [
    "xg_class_word_min = xgb.XGBClassifier(max_depth=7, n_estimators=100, learning_rate=0.125, min_child_weight = 0.4, subsample=0.7, njobs=4)\n",
    "xg_class_word_min.fit(x_word_min_train, y_word_min_train)\n",
    "preds = xg_class_word_min.predict(x_word_min_test)\n",
    "accuracy_score(preds, y_word_min_test)"
   ]
  },
  {
   "cell_type": "code",
   "execution_count": 36,
   "metadata": {},
   "outputs": [
    {
     "data": {
      "text/html": [
       "<div>\n",
       "<style scoped>\n",
       "    .dataframe tbody tr th:only-of-type {\n",
       "        vertical-align: middle;\n",
       "    }\n",
       "\n",
       "    .dataframe tbody tr th {\n",
       "        vertical-align: top;\n",
       "    }\n",
       "\n",
       "    .dataframe thead th {\n",
       "        text-align: right;\n",
       "    }\n",
       "</style>\n",
       "<table border=\"1\" class=\"dataframe\">\n",
       "  <thead>\n",
       "    <tr style=\"text-align: right;\">\n",
       "      <th></th>\n",
       "      <th>0</th>\n",
       "      <th>1</th>\n",
       "    </tr>\n",
       "  </thead>\n",
       "  <tbody>\n",
       "    <tr>\n",
       "      <th>0</th>\n",
       "      <td>[False, False, False, False, False, False, Fal...</td>\n",
       "      <td>1</td>\n",
       "    </tr>\n",
       "    <tr>\n",
       "      <th>1</th>\n",
       "      <td>[False, False, False, False, False, False, Fal...</td>\n",
       "      <td>1</td>\n",
       "    </tr>\n",
       "    <tr>\n",
       "      <th>2</th>\n",
       "      <td>[False, False, False, False, False, False, Fal...</td>\n",
       "      <td>1</td>\n",
       "    </tr>\n",
       "    <tr>\n",
       "      <th>3</th>\n",
       "      <td>[False, False, False, False, False, False, Fal...</td>\n",
       "      <td>0</td>\n",
       "    </tr>\n",
       "    <tr>\n",
       "      <th>4</th>\n",
       "      <td>[False, False, False, False, False, False, Fal...</td>\n",
       "      <td>0</td>\n",
       "    </tr>\n",
       "    <tr>\n",
       "      <th>5</th>\n",
       "      <td>[False, False, False, False, False, False, Fal...</td>\n",
       "      <td>0</td>\n",
       "    </tr>\n",
       "    <tr>\n",
       "      <th>6</th>\n",
       "      <td>[False, False, False, False, False, False, Fal...</td>\n",
       "      <td>0</td>\n",
       "    </tr>\n",
       "    <tr>\n",
       "      <th>7</th>\n",
       "      <td>[False, False, False, False, False, False, Fal...</td>\n",
       "      <td>0</td>\n",
       "    </tr>\n",
       "    <tr>\n",
       "      <th>8</th>\n",
       "      <td>[False, False, False, False, False, False, Fal...</td>\n",
       "      <td>1</td>\n",
       "    </tr>\n",
       "    <tr>\n",
       "      <th>9</th>\n",
       "      <td>[False, False, False, False, False, False, Fal...</td>\n",
       "      <td>1</td>\n",
       "    </tr>\n",
       "    <tr>\n",
       "      <th>10</th>\n",
       "      <td>[False, False, False, False, False, False, Fal...</td>\n",
       "      <td>0</td>\n",
       "    </tr>\n",
       "    <tr>\n",
       "      <th>11</th>\n",
       "      <td>[False, False, False, False, False, False, Fal...</td>\n",
       "      <td>1</td>\n",
       "    </tr>\n",
       "    <tr>\n",
       "      <th>12</th>\n",
       "      <td>[False, False, False, False, False, False, Fal...</td>\n",
       "      <td>0</td>\n",
       "    </tr>\n",
       "    <tr>\n",
       "      <th>13</th>\n",
       "      <td>[False, False, False, False, False, False, Fal...</td>\n",
       "      <td>1</td>\n",
       "    </tr>\n",
       "    <tr>\n",
       "      <th>14</th>\n",
       "      <td>[False, False, False, False, False, False, Fal...</td>\n",
       "      <td>1</td>\n",
       "    </tr>\n",
       "    <tr>\n",
       "      <th>15</th>\n",
       "      <td>[False, False, False, False, False, False, Fal...</td>\n",
       "      <td>0</td>\n",
       "    </tr>\n",
       "    <tr>\n",
       "      <th>16</th>\n",
       "      <td>[False, False, False, False, False, False, Fal...</td>\n",
       "      <td>0</td>\n",
       "    </tr>\n",
       "    <tr>\n",
       "      <th>17</th>\n",
       "      <td>[False, False, False, False, False, False, Fal...</td>\n",
       "      <td>1</td>\n",
       "    </tr>\n",
       "    <tr>\n",
       "      <th>18</th>\n",
       "      <td>[False, False, False, False, False, False, Fal...</td>\n",
       "      <td>1</td>\n",
       "    </tr>\n",
       "    <tr>\n",
       "      <th>19</th>\n",
       "      <td>[False, False, False, False, False, False, Fal...</td>\n",
       "      <td>1</td>\n",
       "    </tr>\n",
       "    <tr>\n",
       "      <th>20</th>\n",
       "      <td>[False, False, False, False, False, False, Fal...</td>\n",
       "      <td>1</td>\n",
       "    </tr>\n",
       "    <tr>\n",
       "      <th>21</th>\n",
       "      <td>[False, False, False, False, False, False, Fal...</td>\n",
       "      <td>1</td>\n",
       "    </tr>\n",
       "    <tr>\n",
       "      <th>22</th>\n",
       "      <td>[False, False, False, False, False, False, Fal...</td>\n",
       "      <td>0</td>\n",
       "    </tr>\n",
       "    <tr>\n",
       "      <th>23</th>\n",
       "      <td>[False, False, False, False, False, False, Fal...</td>\n",
       "      <td>0</td>\n",
       "    </tr>\n",
       "    <tr>\n",
       "      <th>24</th>\n",
       "      <td>[False, False, False, False, False, False, Fal...</td>\n",
       "      <td>0</td>\n",
       "    </tr>\n",
       "    <tr>\n",
       "      <th>25</th>\n",
       "      <td>[False, False, False, False, False, False, Fal...</td>\n",
       "      <td>1</td>\n",
       "    </tr>\n",
       "    <tr>\n",
       "      <th>26</th>\n",
       "      <td>[False, False, False, False, False, False, Fal...</td>\n",
       "      <td>0</td>\n",
       "    </tr>\n",
       "    <tr>\n",
       "      <th>27</th>\n",
       "      <td>[False, False, False, False, False, False, Fal...</td>\n",
       "      <td>0</td>\n",
       "    </tr>\n",
       "    <tr>\n",
       "      <th>28</th>\n",
       "      <td>[False, False, False, False, False, False, Fal...</td>\n",
       "      <td>1</td>\n",
       "    </tr>\n",
       "    <tr>\n",
       "      <th>29</th>\n",
       "      <td>[False, False, False, False, False, False, Fal...</td>\n",
       "      <td>0</td>\n",
       "    </tr>\n",
       "    <tr>\n",
       "      <th>...</th>\n",
       "      <td>...</td>\n",
       "      <td>...</td>\n",
       "    </tr>\n",
       "    <tr>\n",
       "      <th>4982</th>\n",
       "      <td>[False, False, False, False, False, False, Fal...</td>\n",
       "      <td>0</td>\n",
       "    </tr>\n",
       "    <tr>\n",
       "      <th>4983</th>\n",
       "      <td>[False, False, False, False, False, False, Fal...</td>\n",
       "      <td>0</td>\n",
       "    </tr>\n",
       "    <tr>\n",
       "      <th>4984</th>\n",
       "      <td>[False, False, False, False, False, False, Fal...</td>\n",
       "      <td>0</td>\n",
       "    </tr>\n",
       "    <tr>\n",
       "      <th>4985</th>\n",
       "      <td>[False, False, False, False, False, False, Fal...</td>\n",
       "      <td>0</td>\n",
       "    </tr>\n",
       "    <tr>\n",
       "      <th>4986</th>\n",
       "      <td>[False, False, False, False, False, False, Fal...</td>\n",
       "      <td>0</td>\n",
       "    </tr>\n",
       "    <tr>\n",
       "      <th>4987</th>\n",
       "      <td>[False, False, False, False, False, False, Fal...</td>\n",
       "      <td>0</td>\n",
       "    </tr>\n",
       "    <tr>\n",
       "      <th>4988</th>\n",
       "      <td>[False, False, False, False, False, False, Fal...</td>\n",
       "      <td>1</td>\n",
       "    </tr>\n",
       "    <tr>\n",
       "      <th>4989</th>\n",
       "      <td>[False, False, False, False, False, False, Fal...</td>\n",
       "      <td>1</td>\n",
       "    </tr>\n",
       "    <tr>\n",
       "      <th>4990</th>\n",
       "      <td>[False, False, False, False, False, False, Fal...</td>\n",
       "      <td>0</td>\n",
       "    </tr>\n",
       "    <tr>\n",
       "      <th>4991</th>\n",
       "      <td>[False, False, False, False, False, False, Fal...</td>\n",
       "      <td>0</td>\n",
       "    </tr>\n",
       "    <tr>\n",
       "      <th>4992</th>\n",
       "      <td>[False, False, False, False, False, False, Fal...</td>\n",
       "      <td>0</td>\n",
       "    </tr>\n",
       "    <tr>\n",
       "      <th>4993</th>\n",
       "      <td>[False, False, False, False, False, False, Fal...</td>\n",
       "      <td>0</td>\n",
       "    </tr>\n",
       "    <tr>\n",
       "      <th>4994</th>\n",
       "      <td>[False, False, False, False, False, False, Fal...</td>\n",
       "      <td>0</td>\n",
       "    </tr>\n",
       "    <tr>\n",
       "      <th>4995</th>\n",
       "      <td>[False, False, False, False, False, False, Fal...</td>\n",
       "      <td>1</td>\n",
       "    </tr>\n",
       "    <tr>\n",
       "      <th>4996</th>\n",
       "      <td>[False, False, False, False, False, False, Fal...</td>\n",
       "      <td>0</td>\n",
       "    </tr>\n",
       "    <tr>\n",
       "      <th>4997</th>\n",
       "      <td>[False, False, False, False, False, False, Fal...</td>\n",
       "      <td>1</td>\n",
       "    </tr>\n",
       "    <tr>\n",
       "      <th>4998</th>\n",
       "      <td>[False, False, False, False, False, False, Fal...</td>\n",
       "      <td>1</td>\n",
       "    </tr>\n",
       "    <tr>\n",
       "      <th>4999</th>\n",
       "      <td>[False, False, False, False, False, False, Fal...</td>\n",
       "      <td>1</td>\n",
       "    </tr>\n",
       "    <tr>\n",
       "      <th>5000</th>\n",
       "      <td>[False, False, False, False, False, False, Fal...</td>\n",
       "      <td>0</td>\n",
       "    </tr>\n",
       "    <tr>\n",
       "      <th>5001</th>\n",
       "      <td>[False, False, False, False, False, False, Fal...</td>\n",
       "      <td>0</td>\n",
       "    </tr>\n",
       "    <tr>\n",
       "      <th>5002</th>\n",
       "      <td>[False, False, False, False, False, False, Fal...</td>\n",
       "      <td>0</td>\n",
       "    </tr>\n",
       "    <tr>\n",
       "      <th>5003</th>\n",
       "      <td>[False, False, False, False, False, False, Fal...</td>\n",
       "      <td>1</td>\n",
       "    </tr>\n",
       "    <tr>\n",
       "      <th>5004</th>\n",
       "      <td>[False, False, False, False, False, False, Fal...</td>\n",
       "      <td>1</td>\n",
       "    </tr>\n",
       "    <tr>\n",
       "      <th>5005</th>\n",
       "      <td>[False, False, False, False, False, False, Fal...</td>\n",
       "      <td>1</td>\n",
       "    </tr>\n",
       "    <tr>\n",
       "      <th>5006</th>\n",
       "      <td>[False, False, False, False, False, False, Fal...</td>\n",
       "      <td>0</td>\n",
       "    </tr>\n",
       "    <tr>\n",
       "      <th>5007</th>\n",
       "      <td>[False, False, False, False, False, False, Fal...</td>\n",
       "      <td>0</td>\n",
       "    </tr>\n",
       "    <tr>\n",
       "      <th>5008</th>\n",
       "      <td>[False, False, False, False, False, False, Fal...</td>\n",
       "      <td>1</td>\n",
       "    </tr>\n",
       "    <tr>\n",
       "      <th>5009</th>\n",
       "      <td>[False, False, False, False, False, False, Fal...</td>\n",
       "      <td>0</td>\n",
       "    </tr>\n",
       "    <tr>\n",
       "      <th>5010</th>\n",
       "      <td>[False, False, False, False, False, False, Fal...</td>\n",
       "      <td>0</td>\n",
       "    </tr>\n",
       "    <tr>\n",
       "      <th>5011</th>\n",
       "      <td>[False, False, False, False, False, False, Fal...</td>\n",
       "      <td>0</td>\n",
       "    </tr>\n",
       "  </tbody>\n",
       "</table>\n",
       "<p>5012 rows × 2 columns</p>\n",
       "</div>"
      ],
      "text/plain": [
       "                                                      0  1\n",
       "0     [False, False, False, False, False, False, Fal...  1\n",
       "1     [False, False, False, False, False, False, Fal...  1\n",
       "2     [False, False, False, False, False, False, Fal...  1\n",
       "3     [False, False, False, False, False, False, Fal...  0\n",
       "4     [False, False, False, False, False, False, Fal...  0\n",
       "5     [False, False, False, False, False, False, Fal...  0\n",
       "6     [False, False, False, False, False, False, Fal...  0\n",
       "7     [False, False, False, False, False, False, Fal...  0\n",
       "8     [False, False, False, False, False, False, Fal...  1\n",
       "9     [False, False, False, False, False, False, Fal...  1\n",
       "10    [False, False, False, False, False, False, Fal...  0\n",
       "11    [False, False, False, False, False, False, Fal...  1\n",
       "12    [False, False, False, False, False, False, Fal...  0\n",
       "13    [False, False, False, False, False, False, Fal...  1\n",
       "14    [False, False, False, False, False, False, Fal...  1\n",
       "15    [False, False, False, False, False, False, Fal...  0\n",
       "16    [False, False, False, False, False, False, Fal...  0\n",
       "17    [False, False, False, False, False, False, Fal...  1\n",
       "18    [False, False, False, False, False, False, Fal...  1\n",
       "19    [False, False, False, False, False, False, Fal...  1\n",
       "20    [False, False, False, False, False, False, Fal...  1\n",
       "21    [False, False, False, False, False, False, Fal...  1\n",
       "22    [False, False, False, False, False, False, Fal...  0\n",
       "23    [False, False, False, False, False, False, Fal...  0\n",
       "24    [False, False, False, False, False, False, Fal...  0\n",
       "25    [False, False, False, False, False, False, Fal...  1\n",
       "26    [False, False, False, False, False, False, Fal...  0\n",
       "27    [False, False, False, False, False, False, Fal...  0\n",
       "28    [False, False, False, False, False, False, Fal...  1\n",
       "29    [False, False, False, False, False, False, Fal...  0\n",
       "...                                                 ... ..\n",
       "4982  [False, False, False, False, False, False, Fal...  0\n",
       "4983  [False, False, False, False, False, False, Fal...  0\n",
       "4984  [False, False, False, False, False, False, Fal...  0\n",
       "4985  [False, False, False, False, False, False, Fal...  0\n",
       "4986  [False, False, False, False, False, False, Fal...  0\n",
       "4987  [False, False, False, False, False, False, Fal...  0\n",
       "4988  [False, False, False, False, False, False, Fal...  1\n",
       "4989  [False, False, False, False, False, False, Fal...  1\n",
       "4990  [False, False, False, False, False, False, Fal...  0\n",
       "4991  [False, False, False, False, False, False, Fal...  0\n",
       "4992  [False, False, False, False, False, False, Fal...  0\n",
       "4993  [False, False, False, False, False, False, Fal...  0\n",
       "4994  [False, False, False, False, False, False, Fal...  0\n",
       "4995  [False, False, False, False, False, False, Fal...  1\n",
       "4996  [False, False, False, False, False, False, Fal...  0\n",
       "4997  [False, False, False, False, False, False, Fal...  1\n",
       "4998  [False, False, False, False, False, False, Fal...  1\n",
       "4999  [False, False, False, False, False, False, Fal...  1\n",
       "5000  [False, False, False, False, False, False, Fal...  0\n",
       "5001  [False, False, False, False, False, False, Fal...  0\n",
       "5002  [False, False, False, False, False, False, Fal...  0\n",
       "5003  [False, False, False, False, False, False, Fal...  1\n",
       "5004  [False, False, False, False, False, False, Fal...  1\n",
       "5005  [False, False, False, False, False, False, Fal...  1\n",
       "5006  [False, False, False, False, False, False, Fal...  0\n",
       "5007  [False, False, False, False, False, False, Fal...  0\n",
       "5008  [False, False, False, False, False, False, Fal...  1\n",
       "5009  [False, False, False, False, False, False, Fal...  0\n",
       "5010  [False, False, False, False, False, False, Fal...  0\n",
       "5011  [False, False, False, False, False, False, Fal...  0\n",
       "\n",
       "[5012 rows x 2 columns]"
      ]
     },
     "execution_count": 36,
     "metadata": {},
     "output_type": "execute_result"
    }
   ],
   "source": [
    "bag_frame_words"
   ]
  },
  {
   "cell_type": "code",
   "execution_count": 298,
   "metadata": {},
   "outputs": [
    {
     "data": {
      "text/plain": [
       "([mean: 0.91570, std: 0.01606, params: {'learning_rate': 0.125, 'max_depth': 5, 'min_child_weight': 0.5, 'n_estimators': 75, 'subsample': 0.5},\n",
       "  mean: 0.91520, std: 0.01382, params: {'learning_rate': 0.125, 'max_depth': 5, 'min_child_weight': 0.5, 'n_estimators': 75, 'subsample': 1},\n",
       "  mean: 0.91370, std: 0.01458, params: {'learning_rate': 0.125, 'max_depth': 5, 'min_child_weight': 0.5, 'n_estimators': 100, 'subsample': 0.5},\n",
       "  mean: 0.91495, std: 0.01263, params: {'learning_rate': 0.125, 'max_depth': 5, 'min_child_weight': 0.5, 'n_estimators': 100, 'subsample': 1},\n",
       "  mean: 0.91570, std: 0.01602, params: {'learning_rate': 0.125, 'max_depth': 5, 'min_child_weight': 1, 'n_estimators': 75, 'subsample': 0.5},\n",
       "  mean: 0.91520, std: 0.01638, params: {'learning_rate': 0.125, 'max_depth': 5, 'min_child_weight': 1, 'n_estimators': 75, 'subsample': 1},\n",
       "  mean: 0.91445, std: 0.01632, params: {'learning_rate': 0.125, 'max_depth': 5, 'min_child_weight': 1, 'n_estimators': 100, 'subsample': 0.5},\n",
       "  mean: 0.91694, std: 0.01421, params: {'learning_rate': 0.125, 'max_depth': 5, 'min_child_weight': 1, 'n_estimators': 100, 'subsample': 1},\n",
       "  mean: 0.91420, std: 0.01459, params: {'learning_rate': 0.125, 'max_depth': 6, 'min_child_weight': 0.5, 'n_estimators': 75, 'subsample': 0.5},\n",
       "  mean: 0.91445, std: 0.01434, params: {'learning_rate': 0.125, 'max_depth': 6, 'min_child_weight': 0.5, 'n_estimators': 75, 'subsample': 1},\n",
       "  mean: 0.91420, std: 0.01496, params: {'learning_rate': 0.125, 'max_depth': 6, 'min_child_weight': 0.5, 'n_estimators': 100, 'subsample': 0.5},\n",
       "  mean: 0.91395, std: 0.01308, params: {'learning_rate': 0.125, 'max_depth': 6, 'min_child_weight': 0.5, 'n_estimators': 100, 'subsample': 1},\n",
       "  mean: 0.91570, std: 0.01626, params: {'learning_rate': 0.125, 'max_depth': 6, 'min_child_weight': 1, 'n_estimators': 75, 'subsample': 0.5},\n",
       "  mean: 0.91694, std: 0.01462, params: {'learning_rate': 0.125, 'max_depth': 6, 'min_child_weight': 1, 'n_estimators': 75, 'subsample': 1},\n",
       "  mean: 0.91644, std: 0.01707, params: {'learning_rate': 0.125, 'max_depth': 6, 'min_child_weight': 1, 'n_estimators': 100, 'subsample': 0.5},\n",
       "  mean: 0.91495, std: 0.01421, params: {'learning_rate': 0.125, 'max_depth': 6, 'min_child_weight': 1, 'n_estimators': 100, 'subsample': 1},\n",
       "  mean: 0.91570, std: 0.01606, params: {'learning_rate': 0.125, 'max_depth': 7, 'min_child_weight': 0.5, 'n_estimators': 75, 'subsample': 0.5},\n",
       "  mean: 0.91420, std: 0.01436, params: {'learning_rate': 0.125, 'max_depth': 7, 'min_child_weight': 0.5, 'n_estimators': 75, 'subsample': 1},\n",
       "  mean: 0.91719, std: 0.01515, params: {'learning_rate': 0.125, 'max_depth': 7, 'min_child_weight': 0.5, 'n_estimators': 100, 'subsample': 0.5},\n",
       "  mean: 0.91420, std: 0.01631, params: {'learning_rate': 0.125, 'max_depth': 7, 'min_child_weight': 0.5, 'n_estimators': 100, 'subsample': 1},\n",
       "  mean: 0.91695, std: 0.01551, params: {'learning_rate': 0.125, 'max_depth': 7, 'min_child_weight': 1, 'n_estimators': 75, 'subsample': 0.5},\n",
       "  mean: 0.91395, std: 0.01431, params: {'learning_rate': 0.125, 'max_depth': 7, 'min_child_weight': 1, 'n_estimators': 75, 'subsample': 1},\n",
       "  mean: 0.91669, std: 0.01579, params: {'learning_rate': 0.125, 'max_depth': 7, 'min_child_weight': 1, 'n_estimators': 100, 'subsample': 0.5},\n",
       "  mean: 0.91395, std: 0.01246, params: {'learning_rate': 0.125, 'max_depth': 7, 'min_child_weight': 1, 'n_estimators': 100, 'subsample': 1},\n",
       "  mean: 0.88128, std: 0.01707, params: {'learning_rate': 1.5, 'max_depth': 5, 'min_child_weight': 0.5, 'n_estimators': 75, 'subsample': 0.5},\n",
       "  mean: 0.89150, std: 0.01756, params: {'learning_rate': 1.5, 'max_depth': 5, 'min_child_weight': 0.5, 'n_estimators': 75, 'subsample': 1},\n",
       "  mean: 0.87329, std: 0.01604, params: {'learning_rate': 1.5, 'max_depth': 5, 'min_child_weight': 0.5, 'n_estimators': 100, 'subsample': 0.5},\n",
       "  mean: 0.89500, std: 0.01760, params: {'learning_rate': 1.5, 'max_depth': 5, 'min_child_weight': 0.5, 'n_estimators': 100, 'subsample': 1},\n",
       "  mean: 0.87778, std: 0.01335, params: {'learning_rate': 1.5, 'max_depth': 5, 'min_child_weight': 1, 'n_estimators': 75, 'subsample': 0.5},\n",
       "  mean: 0.89574, std: 0.01634, params: {'learning_rate': 1.5, 'max_depth': 5, 'min_child_weight': 1, 'n_estimators': 75, 'subsample': 1},\n",
       "  mean: 0.87354, std: 0.01262, params: {'learning_rate': 1.5, 'max_depth': 5, 'min_child_weight': 1, 'n_estimators': 100, 'subsample': 0.5},\n",
       "  mean: 0.89823, std: 0.01521, params: {'learning_rate': 1.5, 'max_depth': 5, 'min_child_weight': 1, 'n_estimators': 100, 'subsample': 1},\n",
       "  mean: 0.87952, std: 0.02061, params: {'learning_rate': 1.5, 'max_depth': 6, 'min_child_weight': 0.5, 'n_estimators': 75, 'subsample': 0.5},\n",
       "  mean: 0.89898, std: 0.01225, params: {'learning_rate': 1.5, 'max_depth': 6, 'min_child_weight': 0.5, 'n_estimators': 75, 'subsample': 1},\n",
       "  mean: 0.87704, std: 0.01988, params: {'learning_rate': 1.5, 'max_depth': 6, 'min_child_weight': 0.5, 'n_estimators': 100, 'subsample': 0.5},\n",
       "  mean: 0.89624, std: 0.00949, params: {'learning_rate': 1.5, 'max_depth': 6, 'min_child_weight': 0.5, 'n_estimators': 100, 'subsample': 1},\n",
       "  mean: 0.88002, std: 0.00558, params: {'learning_rate': 1.5, 'max_depth': 6, 'min_child_weight': 1, 'n_estimators': 75, 'subsample': 0.5},\n",
       "  mean: 0.81430, std: 0.16463, params: {'learning_rate': 1.5, 'max_depth': 6, 'min_child_weight': 1, 'n_estimators': 75, 'subsample': 1},\n",
       "  mean: 0.87853, std: 0.01822, params: {'learning_rate': 1.5, 'max_depth': 6, 'min_child_weight': 1, 'n_estimators': 100, 'subsample': 0.5},\n",
       "  mean: 0.81455, std: 0.16554, params: {'learning_rate': 1.5, 'max_depth': 6, 'min_child_weight': 1, 'n_estimators': 100, 'subsample': 1},\n",
       "  mean: 0.87204, std: 0.00925, params: {'learning_rate': 1.5, 'max_depth': 7, 'min_child_weight': 0.5, 'n_estimators': 75, 'subsample': 0.5},\n",
       "  mean: 0.89898, std: 0.01814, params: {'learning_rate': 1.5, 'max_depth': 7, 'min_child_weight': 0.5, 'n_estimators': 75, 'subsample': 1},\n",
       "  mean: 0.87429, std: 0.00802, params: {'learning_rate': 1.5, 'max_depth': 7, 'min_child_weight': 0.5, 'n_estimators': 100, 'subsample': 0.5},\n",
       "  mean: 0.89849, std: 0.01683, params: {'learning_rate': 1.5, 'max_depth': 7, 'min_child_weight': 0.5, 'n_estimators': 100, 'subsample': 1},\n",
       "  mean: 0.87877, std: 0.00867, params: {'learning_rate': 1.5, 'max_depth': 7, 'min_child_weight': 1, 'n_estimators': 75, 'subsample': 0.5},\n",
       "  mean: 0.90223, std: 0.01106, params: {'learning_rate': 1.5, 'max_depth': 7, 'min_child_weight': 1, 'n_estimators': 75, 'subsample': 1},\n",
       "  mean: 0.88127, std: 0.00804, params: {'learning_rate': 1.5, 'max_depth': 7, 'min_child_weight': 1, 'n_estimators': 100, 'subsample': 0.5},\n",
       "  mean: 0.89973, std: 0.01476, params: {'learning_rate': 1.5, 'max_depth': 7, 'min_child_weight': 1, 'n_estimators': 100, 'subsample': 1}],\n",
       " {'learning_rate': 0.125,\n",
       "  'max_depth': 7,\n",
       "  'min_child_weight': 0.5,\n",
       "  'n_estimators': 100,\n",
       "  'subsample': 0.5},\n",
       " 0.9171926070136139)"
      ]
     },
     "execution_count": 298,
     "metadata": {},
     "output_type": "execute_result"
    }
   ],
   "source": [
    "from sklearn.grid_search import GridSearchCV\n",
    "#Choose all predictors except target & IDcols\n",
    "param_test1 =  {\n",
    " 'learning_rate':[0.125, 1.5],\n",
    " 'n_estimators':[75, 100],\n",
    " 'max_depth': [5, 6, 7],\n",
    " 'min_child_weight': [0.5, 1],\n",
    " 'subsample': [0.5, 1]}\n",
    "gsearch1 = GridSearchCV(estimator = xgb.XGBClassifier(learning_rate = 0.125,\n",
    "                                                      max_depth = 5,\n",
    "                                                      random_state= 10,\n",
    "                                                      min_child_weight = 1), \n",
    "param_grid = param_test1, n_jobs=4,iid=False, cv=5)\n",
    "gsearch1.estimator.get_params()\n",
    "gsearch1.fit(np.array(x_word_min_train), np.array(y_word_min_train))\n",
    "\n",
    "gsearch1.grid_scores_, gsearch1.best_params_, gsearch1.best_score_"
   ]
  },
  {
   "cell_type": "code",
   "execution_count": 173,
   "metadata": {},
   "outputs": [],
   "source": [
    "import matplotlib.pyplot as plt"
   ]
  },
  {
   "cell_type": "code",
   "execution_count": 174,
   "metadata": {},
   "outputs": [
    {
     "data": {
      "image/png": "[encoded data removed]",
      "text/plain": [
       "<Figure size 864x1296 with 1 Axes>"
      ]
     },
     "metadata": {
      "needs_background": "light"
     },
     "output_type": "display_data"
    }
   ],
   "source": [
    "fig, ax = plt.subplots(figsize=(12,18))\n",
    "xgb.plot_importance(xg_class_word, max_num_features=50, height=0.8, ax=ax)\n",
    "plt.show()"
   ]
  },
  {
   "cell_type": "code",
   "execution_count": 175,
   "metadata": {},
   "outputs": [
    {
     "data": {
      "image/png": "[encoded data removed]",
      "text/plain": [
       "<Figure size 2160x2160 with 1 Axes>"
      ]
     },
     "metadata": {
      "needs_background": "light"
     },
     "output_type": "display_data"
    }
   ],
   "source": [
    "#fig, ax = plt.subplots(figsize=(30, 30))\n",
    "fig, ax = plt.subplots(figsize=(30, 30))\n",
    "xgb.plot_tree(xg_class_word, ax=ax)\n",
    "plt.show()"
   ]
  },
  {
   "cell_type": "code",
   "execution_count": 32,
   "metadata": {},
   "outputs": [
    {
     "data": {
      "text/plain": [
       "([mean: 0.93938, std: 0.00479, params: {'learning_rate': 0.125, 'max_depth': 4, 'n_estimators': 75},\n",
       "  mean: 0.94208, std: 0.00669, params: {'learning_rate': 0.125, 'max_depth': 4, 'n_estimators': 100},\n",
       "  mean: 0.94207, std: 0.00706, params: {'learning_rate': 0.125, 'max_depth': 4, 'n_estimators': 125},\n",
       "  mean: 0.94100, std: 0.00671, params: {'learning_rate': 0.125, 'max_depth': 5, 'n_estimators': 75},\n",
       "  mean: 0.94261, std: 0.00805, params: {'learning_rate': 0.125, 'max_depth': 5, 'n_estimators': 100},\n",
       "  mean: 0.94181, std: 0.00744, params: {'learning_rate': 0.125, 'max_depth': 5, 'n_estimators': 125},\n",
       "  mean: 0.94235, std: 0.00632, params: {'learning_rate': 0.125, 'max_depth': 6, 'n_estimators': 75},\n",
       "  mean: 0.94207, std: 0.00808, params: {'learning_rate': 0.125, 'max_depth': 6, 'n_estimators': 100},\n",
       "  mean: 0.94153, std: 0.00774, params: {'learning_rate': 0.125, 'max_depth': 6, 'n_estimators': 125},\n",
       "  mean: 0.92807, std: 0.00403, params: {'learning_rate': 1.5, 'max_depth': 4, 'n_estimators': 75},\n",
       "  mean: 0.92672, std: 0.00436, params: {'learning_rate': 1.5, 'max_depth': 4, 'n_estimators': 100},\n",
       "  mean: 0.92672, std: 0.00575, params: {'learning_rate': 1.5, 'max_depth': 4, 'n_estimators': 125},\n",
       "  mean: 0.91568, std: 0.00476, params: {'learning_rate': 1.5, 'max_depth': 5, 'n_estimators': 75},\n",
       "  mean: 0.91783, std: 0.00635, params: {'learning_rate': 1.5, 'max_depth': 5, 'n_estimators': 100},\n",
       "  mean: 0.91729, std: 0.00468, params: {'learning_rate': 1.5, 'max_depth': 5, 'n_estimators': 125},\n",
       "  mean: 0.82215, std: 0.16724, params: {'learning_rate': 1.5, 'max_depth': 6, 'n_estimators': 75},\n",
       "  mean: 0.83239, std: 0.16035, params: {'learning_rate': 1.5, 'max_depth': 6, 'n_estimators': 100},\n",
       "  mean: 0.83131, std: 0.17186, params: {'learning_rate': 1.5, 'max_depth': 6, 'n_estimators': 125}],\n",
       " {'learning_rate': 0.125, 'max_depth': 5, 'n_estimators': 100},\n",
       " 0.9426136857664551)"
      ]
     },
     "execution_count": 32,
     "metadata": {},
     "output_type": "execute_result"
    }
   ],
   "source": [
    "from sklearn.grid_search import GridSearchCV\n",
    "#Choose all predictors except target & IDcols\n",
    "param_test1 =  {\n",
    " 'learning_rate':[0.125, 1.5],\n",
    " 'n_estimators':[75, 100, 125],\n",
    " 'max_depth': [4, 5, 6]}\n",
    "gsearch1 = GridSearchCV(estimator = xgb.XGBClassifier(learning_rate = 0.1,\n",
    "                                                      max_depth = 5,\n",
    "                                                      random_state= 10,\n",
    "                                                      min_child_weight = 1), \n",
    "param_grid = param_test1, n_jobs=4,iid=False, cv=5)\n",
    "gsearch1.estimator.get_params()\n",
    "gsearch1.fit(np.array(x_word_train), np.array(y_word_train))\n",
    "\n",
    "gsearch1.grid_scores_, gsearch1.best_params_, gsearch1.best_score_"
   ]
  },
  {
   "cell_type": "code",
   "execution_count": 8,
   "metadata": {},
   "outputs": [],
   "source": [
    "\n",
    "\n",
    "x, y = bag_frame_ngram.iloc[:,:-1],bag_frame_ngram.iloc[:,-1]\n",
    "\n",
    "x_frame = pd.DataFrame(x[0].tolist(), columns = ngrams_bag)\n",
    "\n",
    "from sklearn.model_selection import train_test_split\n",
    "x_train, x_test, y_train, y_test = train_test_split(x_frame, y, test_size=0.2)#, random_state=20)\n",
    "\n",
    "xg_class = xgb.XGBClassifier(max_depth=6, n_estimators=100, learning_rate=0.1, min_child_weight = 1, njobs=4)"
   ]
  },
  {
   "cell_type": "code",
   "execution_count": null,
   "metadata": {},
   "outputs": [],
   "source": [
    "xg_class.fit(x_train, y_train)\n",
    "preds = xg_class.predict(x_test)\n",
    "accuracy_score(preds, y_test)"
   ]
  },
  {
   "cell_type": "code",
   "execution_count": 24,
   "metadata": {},
   "outputs": [
    {
     "data": {
      "text/plain": [
       "16734"
      ]
     },
     "execution_count": 24,
     "metadata": {},
     "output_type": "execute_result"
    }
   ],
   "source": [
    "feature_set_ngram = [([(gram in ngrams(nltk.tokenize.WordPunctTokenizer().tokenize(data[0]), 2)) for gram in ngrams_bag], data[1]) for data in data_set]"
   ]
  },
  {
   "cell_type": "code",
   "execution_count": 30,
   "metadata": {},
   "outputs": [],
   "source": [
    "bag_frame_ngram = pd.DataFrame(feature_set_ngram)\n",
    "\n",
    "x, y = bag_frame_ngram.iloc[:,:-1],bag_frame_ngram.iloc[:,-1]\n",
    "\n",
    "x_frame = pd.DataFrame(x[0].tolist(), columns = ngrams_bag)\n",
    "\n",
    "from sklearn.model_selection import train_test_split\n",
    "x_train, x_test, y_train, y_test = train_test_split(x_frame, y, test_size=0.2)#, random_state=20)\n",
    "\n",
    "xg_class = xgb.XGBClassifier(max_depth=7, n_estimators=400, learning_rate=0.1, min_child_weight = 1, njobs=4)"
   ]
  },
  {
   "cell_type": "code",
   "execution_count": 31,
   "metadata": {},
   "outputs": [
    {
     "data": {
      "text/plain": [
       "0.7487864077669902"
      ]
     },
     "execution_count": 31,
     "metadata": {},
     "output_type": "execute_result"
    }
   ],
   "source": [
    "xg_class.fit(x_train, y_train)\n",
    "preds = xg_class.predict(x_test)\n",
    "accuracy_score(preds, y_test)"
   ]
  },
  {
   "cell_type": "code",
   "execution_count": 131,
   "metadata": {},
   "outputs": [],
   "source": [
    "bag_frame_encoded = pd.DataFrame(feature_set_words)\n",
    "\n",
    "x, y = bag_frame_encoded.iloc[:,:-1],bag_frame_encoded.iloc[:,-1]\n",
    "\n",
    "x_frame = pd.DataFrame(x[0].tolist(), columns = words_bag)\n",
    "\n",
    "from sklearn.model_selection import train_test_split\n",
    "accuracy = []\n",
    "for i in range(15):\n",
    "    xg_class = xgb.XGBClassifier(max_depth=5, n_estimators=100, learning_rate=0.125, min_child_weight = 1, njobs=4)\n",
    "    x_train, x_test, y_train, y_test = train_test_split(x_frame, y, test_size=0.2, random_state=i)\n",
    "    xg_class.fit(x_train, y_train)\n",
    "    preds = xg_class.predict(x_test)\n",
    "    accuracy.append(accuracy_score(preds, y_test))"
   ]
  },
  {
   "cell_type": "code",
   "execution_count": 17,
   "metadata": {},
   "outputs": [
    {
     "data": {
      "text/plain": [
       "0.9448986374210702"
      ]
     },
     "execution_count": 17,
     "metadata": {},
     "output_type": "execute_result"
    }
   ],
   "source": [
    "sum(accuracy) / len(accuracy)"
   ]
  },
  {
   "cell_type": "code",
   "execution_count": 51,
   "metadata": {},
   "outputs": [
    {
     "data": {
      "text/plain": [
       "([mean: 0.90538, std: 0.01378, params: {'learning_rate': 0.05, 'max_depth': 6, 'min_child_weight': 1, 'n_estimators': 75},\n",
       "  mean: 0.91916, std: 0.01229, params: {'learning_rate': 0.05, 'max_depth': 6, 'min_child_weight': 1, 'n_estimators': 100},\n",
       "  mean: 0.92754, std: 0.00719, params: {'learning_rate': 0.05, 'max_depth': 6, 'min_child_weight': 1, 'n_estimators': 125},\n",
       "  mean: 0.89759, std: 0.01819, params: {'learning_rate': 0.05, 'max_depth': 6, 'min_child_weight': 2, 'n_estimators': 75},\n",
       "  mean: 0.89878, std: 0.01811, params: {'learning_rate': 0.05, 'max_depth': 6, 'min_child_weight': 2, 'n_estimators': 100},\n",
       "  mean: 0.89878, std: 0.01719, params: {'learning_rate': 0.05, 'max_depth': 6, 'min_child_weight': 2, 'n_estimators': 125},\n",
       "  mean: 0.91436, std: 0.01087, params: {'learning_rate': 0.05, 'max_depth': 7, 'min_child_weight': 1, 'n_estimators': 75},\n",
       "  mean: 0.92694, std: 0.00902, params: {'learning_rate': 0.05, 'max_depth': 7, 'min_child_weight': 1, 'n_estimators': 100},\n",
       "  mean: 0.93113, std: 0.00891, params: {'learning_rate': 0.05, 'max_depth': 7, 'min_child_weight': 1, 'n_estimators': 125},\n",
       "  mean: 0.90238, std: 0.01630, params: {'learning_rate': 0.05, 'max_depth': 7, 'min_child_weight': 2, 'n_estimators': 75},\n",
       "  mean: 0.90238, std: 0.01694, params: {'learning_rate': 0.05, 'max_depth': 7, 'min_child_weight': 2, 'n_estimators': 100},\n",
       "  mean: 0.90238, std: 0.01630, params: {'learning_rate': 0.05, 'max_depth': 7, 'min_child_weight': 2, 'n_estimators': 125},\n",
       "  mean: 0.93293, std: 0.00979, params: {'learning_rate': 0.1, 'max_depth': 6, 'min_child_weight': 1, 'n_estimators': 75},\n",
       "  mean: 0.93353, std: 0.00994, params: {'learning_rate': 0.1, 'max_depth': 6, 'min_child_weight': 1, 'n_estimators': 100},\n",
       "  mean: 0.93053, std: 0.01223, params: {'learning_rate': 0.1, 'max_depth': 6, 'min_child_weight': 1, 'n_estimators': 125},\n",
       "  mean: 0.89819, std: 0.01701, params: {'learning_rate': 0.1, 'max_depth': 6, 'min_child_weight': 2, 'n_estimators': 75},\n",
       "  mean: 0.89819, std: 0.01701, params: {'learning_rate': 0.1, 'max_depth': 6, 'min_child_weight': 2, 'n_estimators': 100},\n",
       "  mean: 0.89639, std: 0.01828, params: {'learning_rate': 0.1, 'max_depth': 6, 'min_child_weight': 2, 'n_estimators': 125},\n",
       "  mean: 0.93113, std: 0.01006, params: {'learning_rate': 0.1, 'max_depth': 7, 'min_child_weight': 1, 'n_estimators': 75},\n",
       "  mean: 0.93233, std: 0.01117, params: {'learning_rate': 0.1, 'max_depth': 7, 'min_child_weight': 1, 'n_estimators': 100},\n",
       "  mean: 0.93173, std: 0.01084, params: {'learning_rate': 0.1, 'max_depth': 7, 'min_child_weight': 1, 'n_estimators': 125},\n",
       "  mean: 0.90179, std: 0.01691, params: {'learning_rate': 0.1, 'max_depth': 7, 'min_child_weight': 2, 'n_estimators': 75},\n",
       "  mean: 0.90179, std: 0.01863, params: {'learning_rate': 0.1, 'max_depth': 7, 'min_child_weight': 2, 'n_estimators': 100},\n",
       "  mean: 0.90059, std: 0.01891, params: {'learning_rate': 0.1, 'max_depth': 7, 'min_child_weight': 2, 'n_estimators': 125},\n",
       "  mean: 0.93233, std: 0.01179, params: {'learning_rate': 0.15, 'max_depth': 6, 'min_child_weight': 1, 'n_estimators': 75},\n",
       "  mean: 0.93113, std: 0.01186, params: {'learning_rate': 0.15, 'max_depth': 6, 'min_child_weight': 1, 'n_estimators': 100},\n",
       "  mean: 0.93173, std: 0.01267, params: {'learning_rate': 0.15, 'max_depth': 6, 'min_child_weight': 1, 'n_estimators': 125},\n",
       "  mean: 0.89819, std: 0.02019, params: {'learning_rate': 0.15, 'max_depth': 6, 'min_child_weight': 2, 'n_estimators': 75},\n",
       "  mean: 0.89639, std: 0.02050, params: {'learning_rate': 0.15, 'max_depth': 6, 'min_child_weight': 2, 'n_estimators': 100},\n",
       "  mean: 0.89520, std: 0.01972, params: {'learning_rate': 0.15, 'max_depth': 6, 'min_child_weight': 2, 'n_estimators': 125},\n",
       "  mean: 0.93173, std: 0.01066, params: {'learning_rate': 0.15, 'max_depth': 7, 'min_child_weight': 1, 'n_estimators': 75},\n",
       "  mean: 0.92993, std: 0.01118, params: {'learning_rate': 0.15, 'max_depth': 7, 'min_child_weight': 1, 'n_estimators': 100},\n",
       "  mean: 0.92933, std: 0.01228, params: {'learning_rate': 0.15, 'max_depth': 7, 'min_child_weight': 1, 'n_estimators': 125},\n",
       "  mean: 0.89820, std: 0.01979, params: {'learning_rate': 0.15, 'max_depth': 7, 'min_child_weight': 2, 'n_estimators': 75},\n",
       "  mean: 0.89640, std: 0.01984, params: {'learning_rate': 0.15, 'max_depth': 7, 'min_child_weight': 2, 'n_estimators': 100},\n",
       "  mean: 0.89461, std: 0.01771, params: {'learning_rate': 0.15, 'max_depth': 7, 'min_child_weight': 2, 'n_estimators': 125}],\n",
       " {'learning_rate': 0.1,\n",
       "  'max_depth': 6,\n",
       "  'min_child_weight': 1,\n",
       "  'n_estimators': 100},\n",
       " 0.9335291015387538)"
      ]
     },
     "execution_count": 51,
     "metadata": {},
     "output_type": "execute_result"
    }
   ],
   "source": [
    "from sklearn.grid_search import GridSearchCV\n",
    "#Choose all predictors except target & IDcols\n",
    "param_test1 =  {\n",
    " 'learning_rate':[0.05, 0.1, 0.15],\n",
    " 'n_estimators':[75, 100, 125],\n",
    " 'max_depth': [6, 7],\n",
    " 'min_child_weight': [1, 2]}\n",
    "gsearch1 = GridSearchCV(estimator = xgb.XGBClassifier(learning_rate = 0.1,\n",
    "                                                      max_depth = 5,\n",
    "                                                      random_state= 10,\n",
    "                                                      min_child_weight = 1), \n",
    "param_grid = param_test1, n_jobs=4,iid=False, cv=5)\n",
    "gsearch1.estimator.get_params()\n",
    "gsearch1.fit(np.array(x_train), np.array(y_train))\n",
    "\n",
    "gsearch1.grid_scores_, gsearch1.best_params_, gsearch1.best_score_"
   ]
  },
  {
   "cell_type": "code",
   "execution_count": 134,
   "metadata": {},
   "outputs": [],
   "source": [
    "test['Pred']=preds"
   ]
  },
  {
   "cell_type": "code",
   "execution_count": 108,
   "metadata": {},
   "outputs": [],
   "source": [
    "depth = [3,5, 10]\n",
    "esti = [50, 100, 300, 1000]\n",
    "learning_rate = [0.05, 0.2, 0.4]\n",
    "\n",
    "for d in depth:\n",
    "    for e in esti:\n",
    "        for l in learning_rate:\n",
    "            xg_class = xgb.XGBClassifier(max_depth=d, n_estimators=e, learning_rate=l)\n",
    "            xg_class.fit(x_train, y_train)\n",
    "            preds = xg_class.predict(x_test)\n",
    "            print('Depth:', d, 'Estimators:', e, 'Learning Rate:', l, 'Accuracy', accuracy_score(preds, y_test))"
   ]
  },
  {
   "cell_type": "code",
   "execution_count": 145,
   "metadata": {},
   "outputs": [
    {
     "data": {
      "text/plain": [
       "392000000000000018"
      ]
     },
     "execution_count": 145,
     "metadata": {},
     "output_type": "execute_result"
    }
   ],
   "source": [
    "len(preds)*937799043062201"
   ]
  },
  {
   "cell_type": "code",
   "execution_count": 150,
   "metadata": {},
   "outputs": [],
   "source": [
    "wrong = [(index, test['Pred'][index])  for index in test.index if test[1][index] != test['Pred'][index]]"
   ]
  },
  {
   "cell_type": "code",
   "execution_count": 157,
   "metadata": {},
   "outputs": [],
   "source": [
    "wrong_2 = [(index, test['Pred'][index])  for index in test.index if test[1][index] != test['Pred'][index]]"
   ]
  },
  {
   "cell_type": "code",
   "execution_count": 161,
   "metadata": {},
   "outputs": [
    {
     "data": {
      "text/plain": [
       "34"
      ]
     },
     "execution_count": 161,
     "metadata": {},
     "output_type": "execute_result"
    }
   ],
   "source": [
    "len(wrong_2)"
   ]
  },
  {
   "cell_type": "code",
   "execution_count": 153,
   "metadata": {},
   "outputs": [
    {
     "name": "stdout",
     "output_type": "stream",
     "text": [
      "678 ['hey crew, was empfehlt ihr in sachen kamera- und videoschnitt-apps auf android?', '0'] pred: 1\n",
      "1663 ['ist das so einer, wo man nur am griff drehen muss?', '1'] pred: 0\n",
      "209 ['was müsst ihr machen?', '0'] pred: 1\n",
      "327 ['help, worum gehts hier eigentlich?', '0'] pred: 1\n",
      "1888 ['um wieviele packungen handelt es sich bei diesem angebot?', '0'] pred: 1\n",
      "1188 ['wisst ihr warum deutschland keine bananenrepublik ist?', '1'] pred: 0\n",
      "108 ['war er jetzt da oder kam er zu spät?', '0'] pred: 1\n",
      "1241 ['vollkornbrot, mehrkornbrot, sonnenblumenkernbrot, mohnbrot oder normales brot?', '0'] pred: 1\n",
      "235 ['woran liegt das?', '0'] pred: 1\n",
      "427 ['weißt du aber, was der gemacht hat?', '1'] pred: 0\n",
      "1556 ['hat jemand welche?', '1'] pred: 0\n",
      "682 ['seh ich aus wie ein auto?', '1'] pred: 0\n",
      "1164 ['was wünscht ihr euch vor 20.00uhr?', '0'] pred: 1\n",
      "1586 ['wieviele messungen kann dieses gerät speichern?', '0'] pred: 1\n",
      "911 ['was geschieht bei euch in der region, wovon wir nichts mitbekommen?', '0'] pred: 1\n",
      "856 ['weiß jemand, wie es mit diesen \"angehefteten\" tweets funktioniert?', '1'] pred: 0\n",
      "863 ['wen interessiert das schon?', '0'] pred: 1\n",
      "1959 ['hallo, sind im zweierpack beide kabel einzeln oder gemeinsam verpackt?', '0'] pred: 1\n",
      "1471 ['isst du mehr am morgen oder am abend (durchschnittlich)?', '0'] pred: 1\n",
      "1423 ['ohne hintergedanken, weiß wer, um was für einen pilz es sich hier handelt?', '1'] pred: 0\n",
      "318 ['man kann seine handyrechnung von der steuer abziehen?', '0'] pred: 1\n",
      "576 ['wohin führt der weg von sebastian rudy?', '0'] pred: 1\n",
      "500 ['wie lange wird es dauern, bis bei uns so etwas auch diskutiert wird?', '0'] pred: 1\n",
      "372 ['was macht ihr heute noch ?', '0'] pred: 1\n",
      "86 ['was kann ich für sie tun?', '0'] pred: 1\n",
      "1524 ['worauf willst du raus?', '0'] pred: 1\n",
      "828 ['wie immer?', '1'] pred: 0\n",
      "628 ['bringst mir was mit?', '1'] pred: 0\n",
      "1255 ['woran erinnert mich das?', '0'] pred: 1\n",
      "556 ['wisst ihr, wie sehr ich trüffel mag?', '1'] pred: 0\n",
      "561 ['was willst du später mal beruflich machen?', '0'] pred: 1\n",
      "722 ['wann bist du öfter auf twitter aktiv?', '1'] pred: 0\n",
      "785 ['findest du gut was?', '1'] pred: 0\n",
      "1627 ['schaltet das gerät automatisch ein, wenn ein druckauftrag per wlan gesendet wird?', '1'] pred: 0\n"
     ]
    }
   ],
   "source": [
    "for i, pred in wrong:\n",
    "    print(i, data_set[i], 'pred:', pred)"
   ]
  }
 ],
 "metadata": {
  "kernelspec": {
   "display_name": "Python 3",
   "language": "python",
   "name": "python3"
  },
  "language_info": {
   "codemirror_mode": {
    "name": "ipython",
    "version": 3
   },
   "file_extension": ".py",
   "mimetype": "text/x-python",
   "name": "python",
   "nbconvert_exporter": "python",
   "pygments_lexer": "ipython3",
   "version": "3.6.6"
  }
 },
 "nbformat": 4,
 "nbformat_minor": 2
}
